{
 "cells": [
  {
   "cell_type": "markdown",
   "metadata": {},
   "source": [
    "<p style=\"text-align:center\">\n",
    "    <a href=\"https://skills.network\" target=\"_blank\">\n",
    "    <img src=\"https://cf-courses-data.s3.us.cloud-object-storage.appdomain.cloud/assets/logos/SN_web_lightmode.png\" width=\"200\" alt=\"Skills Network Logo\">\n",
    "    </a>\n",
    "</p>\n"
   ]
  },
  {
   "cell_type": "markdown",
   "metadata": {},
   "source": [
    "## Predictions: Regression for Car Mileage and Diamond Price\n"
   ]
  },
  {
   "cell_type": "markdown",
   "metadata": {},
   "source": [
    "<img src=\"https://cf-courses-data.s3.us.cloud-object-storage.appdomain.cloud/IBM-BD0231EN-SkillsNetwork/CarsnDiamonds.png\" width=\"50%\">\n"
   ]
  },
  {
   "cell_type": "markdown",
   "metadata": {},
   "source": [
    "Estimated time needed: **30** minutes\n"
   ]
  },
  {
   "cell_type": "markdown",
   "metadata": {},
   "source": [
    "<p style='color: red'>The purpose of this lab is to show you how to use a car data set to train a regression model that will predict the mileage of a car.</p>\n"
   ]
  },
  {
   "cell_type": "markdown",
   "metadata": {},
   "source": [
    "## __Table of Contents__\n",
    "\n",
    "<ol>\n",
    "    <li><a href=\"#Objectives\">Objectives</a></li>\n",
    "    <li><a href=\"#Datasets\">Datasets</a></li>\n",
    "    <li>\n",
    "        <a href=\"#Setup\">Setup</a>\n",
    "        <ol>\n",
    "            <li><a href=\"#Installing-Required-Libraries\">Installing Required Libraries</a></li>\n",
    "            <li><a href=\"#Importing-Required-Libraries\">Importing Required Libraries</a></li>\n",
    "        </ol>\n",
    "    </li>\n",
    "    <li>\n",
    "        <a href=\"#Examples\">Examples</a>\n",
    "        <ol>\n",
    "            <li><a href=\"#Task-1---Load-the-data-in-a-csv-file-into-a-dataframe\">Task 1 - Load the data in a csv file into a dataframe</a></li>\n",
    "    <li><a href=\"#Task-2---Identify-the-target-column-and-the-data-columns\">Task 2 - Identify the target column and the data columns</a></li>\n",
    "    <li><a href=\"#Task-3---Build-and-Train-a-Linear-Regression-Model\">Task 3 - Build and Train a Linear Regression Model</a></li>\n",
    "    <li><a href=\"#Task-4---Evaluate-the-model-and-make-predictions\">Task 4 - Evaluate the model and make predictions</a></li>        </ol>\n",
    "    </li>\n",
    "    \n",
    "\n",
    "\n",
    "<li><a href=\"#Exercises\">Exercises</a></li>\n",
    "<ol>\n",
    "    <li><a href=\"#Exercise-1---Loading-a-dataset-(diamond-dataset)\">Exercise 1 - Loading a dataset (diamond dataset)</a></li>\n",
    "    <li><a href=\"#Exercise-2---Identify-the-target-column-and-the-data-columns\">Exercise 2 - Identify the target column and the data columns</a></li>\n",
    "    <li><a href=\"#Exercise-3---Build-and-Train-a-new-Linear-Regression-Model\">Exercise 3 - Build and Train a new Linear Regression Model</a></li>\n",
    "    <li><a href=\"#Exercise-4---Evaluate-the-model\">Exercise 4 - Evaluate the model</a></li>\n",
    "    <li><a href=\"#Exercise-5---Predict-the-price-of-a-diamond\">Exercise 5 - Predict the price of a diamond</a></li>\n",
    "    </ol>\n",
    "</ol>\n",
    "\n",
    "\n"
   ]
  },
  {
   "cell_type": "markdown",
   "metadata": {},
   "source": [
    "## Objectives\n",
    "\n",
    "After completing this lab you will be able to:\n",
    "\n",
    " - Use Pandas to load data sets.\n",
    " - Identify the target and features.\n",
    " - Use Linear Regression to build a model to predict car mileage.\n",
    " - Use metrics to evaluate the model.\n",
    " - Make predictions using a trained model.\n"
   ]
  },
  {
   "cell_type": "markdown",
   "metadata": {},
   "source": [
    "## Datasets\n",
    "\n",
    "In this lab you will be using dataset(s):\n",
    "\n",
    " - Modified version of car mileage dataset. Available at https://archive.ics.uci.edu/ml/datasets/auto+mpg \n",
    " - Modified version of diamonds dataset. Available at https://www.openml.org/search?type=data&sort=runs&id=42225&status=active\n",
    " \n"
   ]
  },
  {
   "cell_type": "markdown",
   "metadata": {},
   "source": [
    "----\n"
   ]
  },
  {
   "cell_type": "markdown",
   "metadata": {},
   "source": [
    "## Setup\n"
   ]
  },
  {
   "cell_type": "markdown",
   "metadata": {},
   "source": [
    "For this lab, we will be using the following libraries:\n",
    "\n",
    "*   [`pandas`](https://pandas.pydata.org/?utm_medium=Exinfluencer&utm_source=Exinfluencer&utm_content=000026UJ&utm_term=10006555&utm_id=NA-SkillsNetwork-Channel-SkillsNetworkCoursesIBMML0187ENSkillsNetwork31430127-2021-01-01) for managing the data.\n",
    "*   [`sklearn`](https://scikit-learn.org/stable/?utm_medium=Exinfluencer&utm_source=Exinfluencer&utm_content=000026UJ&utm_term=10006555&utm_id=NA-SkillsNetwork-Channel-SkillsNetworkCoursesIBMML0187ENSkillsNetwork31430127-2021-01-01) for machine learning and machine-learning-pipeline related functions.\n"
   ]
  },
  {
   "cell_type": "markdown",
   "metadata": {},
   "source": [
    "### Installing Required Libraries\n",
    "\n",
    "The following required libraries are pre-installed in the Skills Network Labs environment. However, if you run this notebook commands in a different Jupyter environment (e.g. Watson Studio or Ananconda), you will need to install these libraries by removing the `#` sign before `!pip` in the code cell below.\n"
   ]
  },
  {
   "cell_type": "code",
   "execution_count": 19,
   "metadata": {
    "tags": []
   },
   "outputs": [],
   "source": [
    "# All Libraries required for this lab are listed below. The libraries pre-installed on Skills Network Labs are commented.\n",
    "#!pip install pandas==1.3.4\n",
    "#!pip install scikit-learn==1.0.2\n",
    "#!pip install numpy==1.21.6\n",
    "#!pip install plotly==5.14.1"
   ]
  },
  {
   "cell_type": "code",
   "execution_count": 20,
   "metadata": {
    "tags": []
   },
   "outputs": [],
   "source": [
    "# You can also use this section to suppress warnings generated by your code:\n",
    "def warn(*args, **kwargs):\n",
    "    pass\n",
    "import warnings\n",
    "warnings.warn = warn\n",
    "warnings.filterwarnings('ignore')"
   ]
  },
  {
   "cell_type": "markdown",
   "metadata": {},
   "source": [
    "### Importing Required Libraries\n"
   ]
  },
  {
   "cell_type": "code",
   "execution_count": 21,
   "metadata": {
    "tags": []
   },
   "outputs": [],
   "source": [
    "import pandas as pd\n",
    "import numpy as np\n",
    "from sklearn.linear_model import LinearRegression\n",
    "from matplotlib import pyplot as plt\n",
    "import plotly.express as px"
   ]
  },
  {
   "cell_type": "markdown",
   "metadata": {},
   "source": [
    "## Task 1 - Load the data in a csv file into a dataframe\n"
   ]
  },
  {
   "cell_type": "code",
   "execution_count": 22,
   "metadata": {
    "tags": []
   },
   "outputs": [],
   "source": [
    "# the data set is available at the url below.\n",
    "URL = \"https://cf-courses-data.s3.us.cloud-object-storage.appdomain.cloud/IBM-BD0231EN-SkillsNetwork/datasets/mpg.csv\"\n",
    "\n",
    "# using the read_csv function in the pandas library, we load the data into a dataframe.\n",
    "\n",
    "df = pd.read_csv(URL)"
   ]
  },
  {
   "cell_type": "markdown",
   "metadata": {},
   "source": [
    "Let's look at some sample rows from the dataset we loaded:\n"
   ]
  },
  {
   "cell_type": "code",
   "execution_count": 23,
   "metadata": {
    "tags": []
   },
   "outputs": [
    {
     "data": {
      "text/html": [
       "<div>\n",
       "<style scoped>\n",
       "    .dataframe tbody tr th:only-of-type {\n",
       "        vertical-align: middle;\n",
       "    }\n",
       "\n",
       "    .dataframe tbody tr th {\n",
       "        vertical-align: top;\n",
       "    }\n",
       "\n",
       "    .dataframe thead th {\n",
       "        text-align: right;\n",
       "    }\n",
       "</style>\n",
       "<table border=\"1\" class=\"dataframe\">\n",
       "  <thead>\n",
       "    <tr style=\"text-align: right;\">\n",
       "      <th></th>\n",
       "      <th>MPG</th>\n",
       "      <th>Cylinders</th>\n",
       "      <th>Engine Disp</th>\n",
       "      <th>Horsepower</th>\n",
       "      <th>Weight</th>\n",
       "      <th>Accelerate</th>\n",
       "      <th>Year</th>\n",
       "      <th>Origin</th>\n",
       "    </tr>\n",
       "  </thead>\n",
       "  <tbody>\n",
       "    <tr>\n",
       "      <th>94</th>\n",
       "      <td>16.0</td>\n",
       "      <td>6</td>\n",
       "      <td>250.0</td>\n",
       "      <td>100</td>\n",
       "      <td>3278</td>\n",
       "      <td>18.0</td>\n",
       "      <td>73</td>\n",
       "      <td>American</td>\n",
       "    </tr>\n",
       "    <tr>\n",
       "      <th>177</th>\n",
       "      <td>33.0</td>\n",
       "      <td>4</td>\n",
       "      <td>91.0</td>\n",
       "      <td>53</td>\n",
       "      <td>1795</td>\n",
       "      <td>17.5</td>\n",
       "      <td>75</td>\n",
       "      <td>Japanese</td>\n",
       "    </tr>\n",
       "    <tr>\n",
       "      <th>228</th>\n",
       "      <td>25.5</td>\n",
       "      <td>4</td>\n",
       "      <td>122.0</td>\n",
       "      <td>96</td>\n",
       "      <td>2300</td>\n",
       "      <td>15.5</td>\n",
       "      <td>77</td>\n",
       "      <td>American</td>\n",
       "    </tr>\n",
       "    <tr>\n",
       "      <th>229</th>\n",
       "      <td>19.0</td>\n",
       "      <td>6</td>\n",
       "      <td>225.0</td>\n",
       "      <td>100</td>\n",
       "      <td>3630</td>\n",
       "      <td>17.7</td>\n",
       "      <td>77</td>\n",
       "      <td>American</td>\n",
       "    </tr>\n",
       "    <tr>\n",
       "      <th>30</th>\n",
       "      <td>18.0</td>\n",
       "      <td>6</td>\n",
       "      <td>258.0</td>\n",
       "      <td>110</td>\n",
       "      <td>2962</td>\n",
       "      <td>13.5</td>\n",
       "      <td>71</td>\n",
       "      <td>American</td>\n",
       "    </tr>\n",
       "  </tbody>\n",
       "</table>\n",
       "</div>"
      ],
      "text/plain": [
       "      MPG  Cylinders  Engine Disp  Horsepower  Weight  Accelerate  Year  \\\n",
       "94   16.0          6        250.0         100    3278        18.0    73   \n",
       "177  33.0          4         91.0          53    1795        17.5    75   \n",
       "228  25.5          4        122.0          96    2300        15.5    77   \n",
       "229  19.0          6        225.0         100    3630        17.7    77   \n",
       "30   18.0          6        258.0         110    2962        13.5    71   \n",
       "\n",
       "       Origin  \n",
       "94   American  \n",
       "177  Japanese  \n",
       "228  American  \n",
       "229  American  \n",
       "30   American  "
      ]
     },
     "execution_count": 23,
     "metadata": {},
     "output_type": "execute_result"
    }
   ],
   "source": [
    "# show 5 random rows from the dataset\n",
    "df.sample(5)"
   ]
  },
  {
   "cell_type": "markdown",
   "metadata": {},
   "source": [
    "Let's find out the number of rows and columns in the dataset:\n"
   ]
  },
  {
   "cell_type": "code",
   "execution_count": 24,
   "metadata": {
    "tags": []
   },
   "outputs": [
    {
     "data": {
      "text/plain": [
       "(392, 8)"
      ]
     },
     "execution_count": 24,
     "metadata": {},
     "output_type": "execute_result"
    }
   ],
   "source": [
    "df.shape"
   ]
  },
  {
   "cell_type": "markdown",
   "metadata": {},
   "source": [
    "Let's create a scatter plot of Horsepower versus mileage(MPG) . This will help us visualize the relationship between them.\n"
   ]
  },
  {
   "cell_type": "code",
   "execution_count": 25,
   "metadata": {
    "tags": []
   },
   "outputs": [
    {
     "data": {
      "text/plain": [
       "<Axes: xlabel='Horsepower', ylabel='MPG'>"
      ]
     },
     "execution_count": 25,
     "metadata": {},
     "output_type": "execute_result"
    },
    {
     "data": {
      "image/png": "[encoded data removed]",
      "text/plain": [
       "<Figure size 640x480 with 1 Axes>"
      ]
     },
     "metadata": {},
     "output_type": "display_data"
    }
   ],
   "source": [
    "df.plot.scatter(x = \"Horsepower\", y = \"MPG\")\n",
    "#df[\"Squared Horsepower\"]= df[\"Horsepower\"]**2\n",
    "#df.plot.scatter(x = \"Squared Horsepower\", y = \"MPG\")\n",
    "#df = df.drop('Squared Horsepower', axis=1)"
   ]
  },
  {
   "cell_type": "markdown",
   "metadata": {},
   "source": [
    "You are encouraged to create more plots to visualize relationships amongst other columns\n"
   ]
  },
  {
   "cell_type": "code",
   "execution_count": 26,
   "metadata": {
    "tags": []
   },
   "outputs": [
    {
     "data": {
      "text/html": [
       "<div>\n",
       "<style scoped>\n",
       "    .dataframe tbody tr th:only-of-type {\n",
       "        vertical-align: middle;\n",
       "    }\n",
       "\n",
       "    .dataframe tbody tr th {\n",
       "        vertical-align: top;\n",
       "    }\n",
       "\n",
       "    .dataframe thead th {\n",
       "        text-align: right;\n",
       "    }\n",
       "</style>\n",
       "<table border=\"1\" class=\"dataframe\">\n",
       "  <thead>\n",
       "    <tr style=\"text-align: right;\">\n",
       "      <th></th>\n",
       "      <th>MPG</th>\n",
       "      <th>Cylinders</th>\n",
       "      <th>Engine Disp</th>\n",
       "      <th>Horsepower</th>\n",
       "      <th>Weight</th>\n",
       "      <th>Accelerate</th>\n",
       "      <th>Year</th>\n",
       "      <th>Origin</th>\n",
       "      <th>Squared Root Horsepower</th>\n",
       "      <th>Squared Horsepower</th>\n",
       "      <th>Squared Weight</th>\n",
       "    </tr>\n",
       "  </thead>\n",
       "  <tbody>\n",
       "    <tr>\n",
       "      <th>314</th>\n",
       "      <td>36.4</td>\n",
       "      <td>5</td>\n",
       "      <td>121.0</td>\n",
       "      <td>67</td>\n",
       "      <td>2950</td>\n",
       "      <td>19.9</td>\n",
       "      <td>80</td>\n",
       "      <td>European</td>\n",
       "      <td>8.185353</td>\n",
       "      <td>4489</td>\n",
       "      <td>8702500</td>\n",
       "    </tr>\n",
       "    <tr>\n",
       "      <th>146</th>\n",
       "      <td>24.0</td>\n",
       "      <td>4</td>\n",
       "      <td>120.0</td>\n",
       "      <td>97</td>\n",
       "      <td>2489</td>\n",
       "      <td>15.0</td>\n",
       "      <td>74</td>\n",
       "      <td>Japanese</td>\n",
       "      <td>9.848858</td>\n",
       "      <td>9409</td>\n",
       "      <td>6195121</td>\n",
       "    </tr>\n",
       "    <tr>\n",
       "      <th>100</th>\n",
       "      <td>14.0</td>\n",
       "      <td>8</td>\n",
       "      <td>302.0</td>\n",
       "      <td>137</td>\n",
       "      <td>4042</td>\n",
       "      <td>14.5</td>\n",
       "      <td>73</td>\n",
       "      <td>American</td>\n",
       "      <td>11.704700</td>\n",
       "      <td>18769</td>\n",
       "      <td>16337764</td>\n",
       "    </tr>\n",
       "    <tr>\n",
       "      <th>321</th>\n",
       "      <td>40.8</td>\n",
       "      <td>4</td>\n",
       "      <td>85.0</td>\n",
       "      <td>65</td>\n",
       "      <td>2110</td>\n",
       "      <td>19.2</td>\n",
       "      <td>80</td>\n",
       "      <td>Japanese</td>\n",
       "      <td>8.062258</td>\n",
       "      <td>4225</td>\n",
       "      <td>4452100</td>\n",
       "    </tr>\n",
       "    <tr>\n",
       "      <th>18</th>\n",
       "      <td>22.0</td>\n",
       "      <td>6</td>\n",
       "      <td>198.0</td>\n",
       "      <td>95</td>\n",
       "      <td>2833</td>\n",
       "      <td>15.5</td>\n",
       "      <td>70</td>\n",
       "      <td>American</td>\n",
       "      <td>9.746794</td>\n",
       "      <td>9025</td>\n",
       "      <td>8025889</td>\n",
       "    </tr>\n",
       "  </tbody>\n",
       "</table>\n",
       "</div>"
      ],
      "text/plain": [
       "      MPG  Cylinders  Engine Disp  Horsepower  Weight  Accelerate  Year  \\\n",
       "314  36.4          5        121.0          67    2950        19.9    80   \n",
       "146  24.0          4        120.0          97    2489        15.0    74   \n",
       "100  14.0          8        302.0         137    4042        14.5    73   \n",
       "321  40.8          4         85.0          65    2110        19.2    80   \n",
       "18   22.0          6        198.0          95    2833        15.5    70   \n",
       "\n",
       "       Origin  Squared Root Horsepower  Squared Horsepower  Squared Weight  \n",
       "314  European                 8.185353                4489         8702500  \n",
       "146  Japanese                 9.848858                9409         6195121  \n",
       "100  American                11.704700               18769        16337764  \n",
       "321  Japanese                 8.062258                4225         4452100  \n",
       "18   American                 9.746794                9025         8025889  "
      ]
     },
     "execution_count": 26,
     "metadata": {},
     "output_type": "execute_result"
    }
   ],
   "source": [
    "df[\"Squared Root Horsepower\"]= np.sqrt(df[\"Horsepower\"])\n",
    "df[\"Squared Horsepower\"]= df[\"Horsepower\"]**2\n",
    "df[\"Squared Weight\"]= df[\"Weight\"]**2\n",
    "df.sample(5)"
   ]
  },
  {
   "cell_type": "code",
   "execution_count": 27,
   "metadata": {
    "tags": []
   },
   "outputs": [
    {
     "data": {
      "application/vnd.plotly.v1+json": {
       "config": {
        "plotlyServerURL": "https://plot.ly"
       },
       "data": [
        {
         "hovertemplate": "Squared Root Horsepower=%{x}<br>MPG=%{y}<extra></extra>",
         "legendgroup": "",
         "marker": {
          "color": "#636efa",
          "symbol": "circle"
         },
         "mode": "markers",
         "name": "",
         "orientation": "v",
         "showlegend": false,
         "type": "scatter",
         "x": [
          13.784048752090222,
          9.486832980505138,
          9.848857801796104,
          12.24744871391589,
          15,
          12.84523257866513,
          11.40175425099138,
          14.832396974191326,
          12.24744871391589,
          14.142135623730951,
          13.038404810405298,
          14.491376746189438,
          14.66287829861518,
          14.071247279470288,
          9.219544457292887,
          11.832159566199232,
          13.892443989449804,
          12.649110640673518,
          9.746794344808963,
          14.66287829861518,
          12.24744871391589,
          15,
          9.486832980505138,
          10.63014581273465,
          9.327379053088816,
          9.746794344808963,
          6.782329983125268,
          9.38083151964686,
          9.746794344808963,
          10,
          10.488088481701515,
          10,
          10,
          12.84523257866513,
          8.48528137423857,
          9.486832980505138,
          13.416407864998739,
          13.038404810405298,
          12.36931687685298,
          9.38083151964686,
          9.38083151964686,
          9.273618495495704,
          8.366600265340756,
          12.24744871391589,
          10.246950765959598,
          13.228756555322953,
          10,
          13.228756555322953,
          8.717797887081348,
          9.486832980505138,
          8.366600265340756,
          7.745966692414834,
          8.306623862918075,
          9.38083151964686,
          8.06225774829855,
          9.746794344808963,
          12.24744871391589,
          12.24744871391589,
          12.449899597988733,
          11.40175425099138,
          12.84523257866513,
          9.486832980505138,
          13.784048752090222,
          8.94427190999916,
          8.94427190999916,
          12.36931687685298,
          11.832159566199232,
          9.273618495495704,
          9.273618495495704,
          14.422205101855956,
          12.649110640673518,
          12.24744871391589,
          12.24744871391589,
          13.228756555322953,
          9.327379053088816,
          8.306623862918075,
          8.717797887081348,
          7.3484692283495345,
          10.583005244258363,
          9.591663046625438,
          9.848857801796104,
          9.38083151964686,
          9.746794344808963,
          9.848857801796104,
          13.228756555322953,
          10,
          10,
          12.24744871391589,
          13.228756555322953,
          15,
          12.24744871391589,
          12.24744871391589,
          12.041594578792296,
          12.041594578792296,
          10,
          8.48528137423857,
          14.66287829861518,
          12.24744871391589,
          12.24744871391589,
          12.922847983320086,
          11.704699910719626,
          12.569805089976535,
          9.38083151964686,
          9.219544457292887,
          10.344080432788601,
          14.071247279470288,
          13.416407864998739,
          13.416407864998739,
          13.038404810405298,
          9.746794344808963,
          12.24744871391589,
          10.246950765959598,
          15.165750888103101,
          9.539392014169456,
          9.486832980505138,
          7,
          8.660254037844387,
          10.488088481701515,
          6.782329983125268,
          10.583005244258363,
          9.695359714832659,
          9.486832980505138,
          9.38083151964686,
          11.045361017187261,
          10,
          10.488088481701515,
          12.24744871391589,
          12.24744871391589,
          10,
          10,
          8.660254037844387,
          8.660254037844387,
          12.24744871391589,
          11.832159566199232,
          11.832159566199232,
          8.94427190999916,
          9.746794344808963,
          10.246950765959598,
          9.1104335791443,
          8.660254037844387,
          8.660254037844387,
          8.18535277187245,
          8.831760866327848,
          8.18535277187245,
          7.810249675906654,
          8.18535277187245,
          9.848857801796104,
          9.643650760992955,
          8.06225774829855,
          7.211102550927978,
          10,
          10.488088481701515,
          9.486832980505138,
          10.488088481701515,
          10.488088481701515,
          10.246950765959598,
          12.041594578792296,
          10.488088481701515,
          10.246950765959598,
          12.165525060596439,
          8.48528137423857,
          11.357816691600547,
          9.1104335791443,
          9.848857801796104,
          8.48528137423857,
          9.746794344808963,
          12.24744871391589,
          9.746794344808963,
          8.831760866327848,
          13.038404810405298,
          9.746794344808963,
          9.38083151964686,
          10.723805294763608,
          8.426149773176359,
          8.366600265340756,
          9.899494936611665,
          9.848857801796104,
          7.280109889280518,
          8.660254037844387,
          9.797958971132712,
          9.486832980505138,
          10.954451150103322,
          9.746794344808963,
          13.416407864998739,
          9.591663046625438,
          11.832159566199232,
          7.211102550927978,
          10.246950765959598,
          7.745966692414834,
          12.041594578792296,
          10,
          8.888194417315589,
          12.24744871391589,
          12.24744871391589,
          11.40175425099138,
          12.328828005937952,
          8.831760866327848,
          9,
          8.48528137423857,
          10,
          12.24744871391589,
          10.488088481701515,
          9.273618495495704,
          10.954451150103322,
          9,
          9.38083151964686,
          9.1104335791443,
          8.426149773176359,
          10.099504938362077,
          8.366600265340756,
          8.366600265340756,
          7.280109889280518,
          8.660254037844387,
          10.392304845413264,
          8.94427190999916,
          10.246950765959598,
          12.041594578792296,
          7.937253933193772,
          10.488088481701515,
          13.038404810405298,
          13.784048752090222,
          9.1104335791443,
          12.041594578792296,
          9.899494936611665,
          9.433981132056603,
          12.206555615733702,
          11.40175425099138,
          10.488088481701515,
          9.797958971132712,
          10,
          13.416407864998739,
          9.38083151964686,
          10.488088481701515,
          7.615773105863909,
          8.831760866327848,
          8.831760866327848,
          9.848857801796104,
          8.366600265340756,
          8.246211251235321,
          10.488088481701515,
          8.18535277187245,
          8.660254037844387,
          9.486832980505138,
          10.954451150103322,
          10.246950765959598,
          12.84523257866513,
          8.246211251235321,
          9.746794344808963,
          12.041594578792296,
          10.488088481701515,
          11.832159566199232,
          11.832159566199232,
          8.660254037844387,
          9.219544457292887,
          9.38083151964686,
          8.12403840463596,
          11.789826122551595,
          11.789826122551595,
          9.219544457292887,
          10.488088481701515,
          9.219544457292887,
          10.246950765959598,
          10,
          10.246950765959598,
          10.14889156509222,
          11.532562594670797,
          10.723805294763608,
          6.928203230275509,
          8.426149773176359,
          11.180339887498949,
          9.848857801796104,
          9.848857801796104,
          8.366600265340756,
          8.246211251235321,
          7.745966692414834,
          7.211102550927978,
          9.746794344808963,
          9.746794344808963,
          9.486832980505138,
          8.94427190999916,
          12.449899597988733,
          9.486832980505138,
          11.180339887498949,
          11.40175425099138,
          10.723805294763608,
          11.180339887498949,
          12.24744871391589,
          10.488088481701515,
          8.94427190999916,
          11.61895003862225,
          11.916375287812984,
          9.38083151964686,
          11.357816691600547,
          11.74734012447073,
          9.219544457292887,
          9.486832980505138,
          10.723805294763608,
          8.366600265340756,
          8.366600265340756,
          10.723805294763608,
          9.486832980505138,
          8.306623862918075,
          8.774964387392123,
          8.426149773176359,
          8.426149773176359,
          8.06225774829855,
          8.06225774829855,
          9.486832980505138,
          8.366600265340756,
          9.486832980505138,
          9.486832980505138,
          10.246950765959598,
          9.38083151964686,
          8.831760866327848,
          8.18535277187245,
          8.18535277187245,
          9.38083151964686,
          7.874007874011811,
          6.928203230275509,
          8.717797887081348,
          6.928203230275509,
          8.06225774829855,
          11.489125293076057,
          8.06225774829855,
          9.591663046625438,
          8.48528137423857,
          8.18535277187245,
          8.660254037844387,
          8.06225774829855,
          10,
          8.18535277187245,
          8.660254037844387,
          7.745966692414834,
          9.486832980505138,
          10.488088481701515,
          9.16515138991168,
          10.488088481701515,
          9.219544457292887,
          9.591663046625438,
          8.06225774829855,
          8.06225774829855,
          9.38083151964686,
          10.246950765959598,
          8,
          7.937253933193772,
          9.16515138991168,
          9.16515138991168,
          8.94427190999916,
          8.602325267042627,
          8.717797887081348,
          10,
          8.06225774829855,
          10.954451150103322,
          7.745966692414834,
          8.660254037844387,
          8.602325267042627,
          8.246211251235321,
          8.18535277187245,
          8.660254037844387,
          10.770329614269007,
          7.615773105863909,
          7.874007874011811,
          10.488088481701515,
          9.486832980505138,
          9.38083151964686,
          9.38083151964686,
          9.38083151964686,
          9.055385138137417,
          9.591663046625438,
          9.16515138991168,
          9.16515138991168,
          9.16515138991168,
          9.591663046625438,
          10.583005244258363,
          9.273618495495704,
          8.888194417315589,
          8.366600265340756,
          9.219544457292887,
          7.937253933193772,
          9.219544457292887,
          9.486832980505138,
          8.602325267042627,
          7.211102550927978,
          8.18535277187245,
          8.660254037844387,
          8.18535277187245,
          8.18535277187245,
          8.246211251235321,
          8.246211251235321,
          9.38083151964686,
          9.797958971132712,
          8.366600265340756
         ],
         "xaxis": "x",
         "y": [
          15,
          21,
          18,
          16,
          14,
          15,
          18,
          14,
          15,
          10,
          15,
          11,
          10,
          15,
          21,
          17,
          9,
          14,
          22,
          14,
          18,
          14,
          24,
          26,
          25,
          25,
          26,
          27,
          24,
          19,
          18,
          18,
          17,
          14,
          22,
          28,
          12,
          13,
          14,
          18,
          19,
          23,
          26,
          14,
          16,
          14,
          19,
          13,
          30,
          28,
          30,
          27,
          35,
          27,
          31,
          25,
          17,
          15,
          13,
          13,
          13,
          20,
          13,
          28,
          25,
          14,
          13,
          22,
          21,
          11,
          12,
          15,
          14,
          14,
          21,
          26,
          22,
          23,
          18,
          28,
          19,
          27,
          24,
          23,
          13,
          18,
          18,
          14,
          13,
          12,
          13,
          11,
          13,
          15,
          16,
          21,
          13,
          15,
          15,
          12,
          14,
          13,
          18,
          19,
          21,
          12,
          11,
          12,
          13,
          23,
          14,
          18,
          16,
          20,
          26,
          29,
          24,
          24,
          26,
          19,
          22,
          18,
          20,
          20,
          19,
          16,
          14,
          13,
          16,
          15,
          25,
          28,
          14,
          16,
          14,
          26,
          20,
          18,
          29,
          26,
          24,
          31,
          26,
          26,
          32,
          31,
          24,
          26,
          32,
          31,
          20,
          15,
          19,
          17,
          21,
          16,
          15,
          20,
          18,
          14,
          15,
          13,
          23,
          18,
          15,
          18,
          16,
          19,
          23,
          16,
          23,
          23,
          25,
          25,
          29,
          22,
          24,
          33,
          29,
          24,
          22.5,
          15.5,
          17.5,
          16.5,
          25,
          17.5,
          29,
          22,
          24.5,
          13,
          20,
          26,
          16,
          13,
          13,
          14.5,
          18,
          24,
          26.5,
          22,
          13,
          18.5,
          28,
          16.5,
          25,
          19,
          27,
          29.5,
          20,
          29,
          32,
          33,
          28,
          19,
          30,
          20.5,
          17.5,
          30.5,
          17.5,
          15.5,
          15.5,
          33.5,
          15.5,
          18.5,
          25.5,
          16,
          15,
          17,
          25.5,
          19,
          16,
          24.5,
          21.5,
          36,
          30.5,
          29,
          22,
          33.5,
          31.5,
          21.5,
          30,
          26,
          19.4,
          18.1,
          20.6,
          17.7,
          30,
          20.5,
          19.2,
          18.6,
          19.4,
          17.5,
          30.9,
          20.2,
          25.1,
          36.1,
          18.1,
          20.2,
          20.8,
          19.9,
          23.8,
          23.2,
          20.5,
          19.2,
          20.3,
          16.2,
          21.6,
          43.1,
          31.5,
          17,
          23.9,
          27.2,
          39.4,
          29.5,
          36.1,
          32.8,
          21.1,
          27.5,
          20.2,
          27.4,
          16.9,
          28.4,
          23,
          17,
          28.8,
          19.2,
          18.5,
          20.6,
          35.7,
          18.2,
          15.5,
          22.3,
          17.6,
          16.5,
          19.8,
          23.9,
          26.8,
          34.2,
          34.5,
          21.5,
          33.5,
          37.3,
          25.4,
          27.2,
          31.9,
          31.8,
          34.1,
          24.3,
          32.1,
          28,
          19.1,
          27.9,
          26.4,
          34.3,
          36.4,
          30,
          35,
          29.8,
          43.4,
          41.5,
          44.3,
          40.8,
          32.7,
          37.2,
          37,
          32.4,
          44.6,
          31.3,
          46.6,
          23.7,
          33.8,
          32.2,
          38.1,
          29.8,
          22.4,
          26.6,
          23.5,
          17.6,
          25.8,
          29.9,
          34.4,
          20.2,
          26.6,
          39,
          34.7,
          27.2,
          30,
          28.1,
          33,
          30.7,
          32.9,
          37,
          24.2,
          35.1,
          33.7,
          31.6,
          34.1,
          32.3,
          32.4,
          25.4,
          39.1,
          37.7,
          25,
          27,
          28,
          34,
          27,
          31,
          26,
          29,
          36,
          32,
          24,
          22,
          27,
          28,
          36,
          38,
          38,
          31,
          27,
          36,
          44,
          38,
          36,
          38,
          32,
          31,
          37,
          36,
          32,
          34
         ],
         "yaxis": "y"
        }
       ],
       "layout": {
        "autosize": true,
        "legend": {
         "tracegroupgap": 0
        },
        "margin": {
         "t": 60
        },
        "template": {
         "data": {
          "bar": [
           {
            "error_x": {
             "color": "#2a3f5f"
            },
            "error_y": {
             "color": "#2a3f5f"
            },
            "marker": {
             "line": {
              "color": "#E5ECF6",
              "width": 0.5
             },
             "pattern": {
              "fillmode": "overlay",
              "size": 10,
              "solidity": 0.2
             }
            },
            "type": "bar"
           }
          ],
          "barpolar": [
           {
            "marker": {
             "line": {
              "color": "#E5ECF6",
              "width": 0.5
             },
             "pattern": {
              "fillmode": "overlay",
              "size": 10,
              "solidity": 0.2
             }
            },
            "type": "barpolar"
           }
          ],
          "carpet": [
           {
            "aaxis": {
             "endlinecolor": "#2a3f5f",
             "gridcolor": "white",
             "linecolor": "white",
             "minorgridcolor": "white",
             "startlinecolor": "#2a3f5f"
            },
            "baxis": {
             "endlinecolor": "#2a3f5f",
             "gridcolor": "white",
             "linecolor": "white",
             "minorgridcolor": "white",
             "startlinecolor": "#2a3f5f"
            },
            "type": "carpet"
           }
          ],
          "choropleth": [
           {
            "colorbar": {
             "outlinewidth": 0,
             "ticks": ""
            },
            "type": "choropleth"
           }
          ],
          "contour": [
           {
            "colorbar": {
             "outlinewidth": 0,
             "ticks": ""
            },
            "colorscale": [
             [
              0,
              "#0d0887"
             ],
             [
              0.1111111111111111,
              "#46039f"
             ],
             [
              0.2222222222222222,
              "#7201a8"
             ],
             [
              0.3333333333333333,
              "#9c179e"
             ],
             [
              0.4444444444444444,
              "#bd3786"
             ],
             [
              0.5555555555555556,
              "#d8576b"
             ],
             [
              0.6666666666666666,
              "#ed7953"
             ],
             [
              0.7777777777777778,
              "#fb9f3a"
             ],
             [
              0.8888888888888888,
              "#fdca26"
             ],
             [
              1,
              "#f0f921"
             ]
            ],
            "type": "contour"
           }
          ],
          "contourcarpet": [
           {
            "colorbar": {
             "outlinewidth": 0,
             "ticks": ""
            },
            "type": "contourcarpet"
           }
          ],
          "heatmap": [
           {
            "colorbar": {
             "outlinewidth": 0,
             "ticks": ""
            },
            "colorscale": [
             [
              0,
              "#0d0887"
             ],
             [
              0.1111111111111111,
              "#46039f"
             ],
             [
              0.2222222222222222,
              "#7201a8"
             ],
             [
              0.3333333333333333,
              "#9c179e"
             ],
             [
              0.4444444444444444,
              "#bd3786"
             ],
             [
              0.5555555555555556,
              "#d8576b"
             ],
             [
              0.6666666666666666,
              "#ed7953"
             ],
             [
              0.7777777777777778,
              "#fb9f3a"
             ],
             [
              0.8888888888888888,
              "#fdca26"
             ],
             [
              1,
              "#f0f921"
             ]
            ],
            "type": "heatmap"
           }
          ],
          "heatmapgl": [
           {
            "colorbar": {
             "outlinewidth": 0,
             "ticks": ""
            },
            "colorscale": [
             [
              0,
              "#0d0887"
             ],
             [
              0.1111111111111111,
              "#46039f"
             ],
             [
              0.2222222222222222,
              "#7201a8"
             ],
             [
              0.3333333333333333,
              "#9c179e"
             ],
             [
              0.4444444444444444,
              "#bd3786"
             ],
             [
              0.5555555555555556,
              "#d8576b"
             ],
             [
              0.6666666666666666,
              "#ed7953"
             ],
             [
              0.7777777777777778,
              "#fb9f3a"
             ],
             [
              0.8888888888888888,
              "#fdca26"
             ],
             [
              1,
              "#f0f921"
             ]
            ],
            "type": "heatmapgl"
           }
          ],
          "histogram": [
           {
            "marker": {
             "pattern": {
              "fillmode": "overlay",
              "size": 10,
              "solidity": 0.2
             }
            },
            "type": "histogram"
           }
          ],
          "histogram2d": [
           {
            "colorbar": {
             "outlinewidth": 0,
             "ticks": ""
            },
            "colorscale": [
             [
              0,
              "#0d0887"
             ],
             [
              0.1111111111111111,
              "#46039f"
             ],
             [
              0.2222222222222222,
              "#7201a8"
             ],
             [
              0.3333333333333333,
              "#9c179e"
             ],
             [
              0.4444444444444444,
              "#bd3786"
             ],
             [
              0.5555555555555556,
              "#d8576b"
             ],
             [
              0.6666666666666666,
              "#ed7953"
             ],
             [
              0.7777777777777778,
              "#fb9f3a"
             ],
             [
              0.8888888888888888,
              "#fdca26"
             ],
             [
              1,
              "#f0f921"
             ]
            ],
            "type": "histogram2d"
           }
          ],
          "histogram2dcontour": [
           {
            "colorbar": {
             "outlinewidth": 0,
             "ticks": ""
            },
            "colorscale": [
             [
              0,
              "#0d0887"
             ],
             [
              0.1111111111111111,
              "#46039f"
             ],
             [
              0.2222222222222222,
              "#7201a8"
             ],
             [
              0.3333333333333333,
              "#9c179e"
             ],
             [
              0.4444444444444444,
              "#bd3786"
             ],
             [
              0.5555555555555556,
              "#d8576b"
             ],
             [
              0.6666666666666666,
              "#ed7953"
             ],
             [
              0.7777777777777778,
              "#fb9f3a"
             ],
             [
              0.8888888888888888,
              "#fdca26"
             ],
             [
              1,
              "#f0f921"
             ]
            ],
            "type": "histogram2dcontour"
           }
          ],
          "mesh3d": [
           {
            "colorbar": {
             "outlinewidth": 0,
             "ticks": ""
            },
            "type": "mesh3d"
           }
          ],
          "parcoords": [
           {
            "line": {
             "colorbar": {
              "outlinewidth": 0,
              "ticks": ""
             }
            },
            "type": "parcoords"
           }
          ],
          "pie": [
           {
            "automargin": true,
            "type": "pie"
           }
          ],
          "scatter": [
           {
            "fillpattern": {
             "fillmode": "overlay",
             "size": 10,
             "solidity": 0.2
            },
            "type": "scatter"
           }
          ],
          "scatter3d": [
           {
            "line": {
             "colorbar": {
              "outlinewidth": 0,
              "ticks": ""
             }
            },
            "marker": {
             "colorbar": {
              "outlinewidth": 0,
              "ticks": ""
             }
            },
            "type": "scatter3d"
           }
          ],
          "scattercarpet": [
           {
            "marker": {
             "colorbar": {
              "outlinewidth": 0,
              "ticks": ""
             }
            },
            "type": "scattercarpet"
           }
          ],
          "scattergeo": [
           {
            "marker": {
             "colorbar": {
              "outlinewidth": 0,
              "ticks": ""
             }
            },
            "type": "scattergeo"
           }
          ],
          "scattergl": [
           {
            "marker": {
             "colorbar": {
              "outlinewidth": 0,
              "ticks": ""
             }
            },
            "type": "scattergl"
           }
          ],
          "scattermapbox": [
           {
            "marker": {
             "colorbar": {
              "outlinewidth": 0,
              "ticks": ""
             }
            },
            "type": "scattermapbox"
           }
          ],
          "scatterpolar": [
           {
            "marker": {
             "colorbar": {
              "outlinewidth": 0,
              "ticks": ""
             }
            },
            "type": "scatterpolar"
           }
          ],
          "scatterpolargl": [
           {
            "marker": {
             "colorbar": {
              "outlinewidth": 0,
              "ticks": ""
             }
            },
            "type": "scatterpolargl"
           }
          ],
          "scatterternary": [
           {
            "marker": {
             "colorbar": {
              "outlinewidth": 0,
              "ticks": ""
             }
            },
            "type": "scatterternary"
           }
          ],
          "surface": [
           {
            "colorbar": {
             "outlinewidth": 0,
             "ticks": ""
            },
            "colorscale": [
             [
              0,
              "#0d0887"
             ],
             [
              0.1111111111111111,
              "#46039f"
             ],
             [
              0.2222222222222222,
              "#7201a8"
             ],
             [
              0.3333333333333333,
              "#9c179e"
             ],
             [
              0.4444444444444444,
              "#bd3786"
             ],
             [
              0.5555555555555556,
              "#d8576b"
             ],
             [
              0.6666666666666666,
              "#ed7953"
             ],
             [
              0.7777777777777778,
              "#fb9f3a"
             ],
             [
              0.8888888888888888,
              "#fdca26"
             ],
             [
              1,
              "#f0f921"
             ]
            ],
            "type": "surface"
           }
          ],
          "table": [
           {
            "cells": {
             "fill": {
              "color": "#EBF0F8"
             },
             "line": {
              "color": "white"
             }
            },
            "header": {
             "fill": {
              "color": "#C8D4E3"
             },
             "line": {
              "color": "white"
             }
            },
            "type": "table"
           }
          ]
         },
         "layout": {
          "annotationdefaults": {
           "arrowcolor": "#2a3f5f",
           "arrowhead": 0,
           "arrowwidth": 1
          },
          "autotypenumbers": "strict",
          "coloraxis": {
           "colorbar": {
            "outlinewidth": 0,
            "ticks": ""
           }
          },
          "colorscale": {
           "diverging": [
            [
             0,
             "#8e0152"
            ],
            [
             0.1,
             "#c51b7d"
            ],
            [
             0.2,
             "#de77ae"
            ],
            [
             0.3,
             "#f1b6da"
            ],
            [
             0.4,
             "#fde0ef"
            ],
            [
             0.5,
             "#f7f7f7"
            ],
            [
             0.6,
             "#e6f5d0"
            ],
            [
             0.7,
             "#b8e186"
            ],
            [
             0.8,
             "#7fbc41"
            ],
            [
             0.9,
             "#4d9221"
            ],
            [
             1,
             "#276419"
            ]
           ],
           "sequential": [
            [
             0,
             "#0d0887"
            ],
            [
             0.1111111111111111,
             "#46039f"
            ],
            [
             0.2222222222222222,
             "#7201a8"
            ],
            [
             0.3333333333333333,
             "#9c179e"
            ],
            [
             0.4444444444444444,
             "#bd3786"
            ],
            [
             0.5555555555555556,
             "#d8576b"
            ],
            [
             0.6666666666666666,
             "#ed7953"
            ],
            [
             0.7777777777777778,
             "#fb9f3a"
            ],
            [
             0.8888888888888888,
             "#fdca26"
            ],
            [
             1,
             "#f0f921"
            ]
           ],
           "sequentialminus": [
            [
             0,
             "#0d0887"
            ],
            [
             0.1111111111111111,
             "#46039f"
            ],
            [
             0.2222222222222222,
             "#7201a8"
            ],
            [
             0.3333333333333333,
             "#9c179e"
            ],
            [
             0.4444444444444444,
             "#bd3786"
            ],
            [
             0.5555555555555556,
             "#d8576b"
            ],
            [
             0.6666666666666666,
             "#ed7953"
            ],
            [
             0.7777777777777778,
             "#fb9f3a"
            ],
            [
             0.8888888888888888,
             "#fdca26"
            ],
            [
             1,
             "#f0f921"
            ]
           ]
          },
          "colorway": [
           "#636efa",
           "#EF553B",
           "#00cc96",
           "#ab63fa",
           "#FFA15A",
           "#19d3f3",
           "#FF6692",
           "#B6E880",
           "#FF97FF",
           "#FECB52"
          ],
          "font": {
           "color": "#2a3f5f"
          },
          "geo": {
           "bgcolor": "white",
           "lakecolor": "white",
           "landcolor": "#E5ECF6",
           "showlakes": true,
           "showland": true,
           "subunitcolor": "white"
          },
          "hoverlabel": {
           "align": "left"
          },
          "hovermode": "closest",
          "mapbox": {
           "style": "light"
          },
          "paper_bgcolor": "white",
          "plot_bgcolor": "#E5ECF6",
          "polar": {
           "angularaxis": {
            "gridcolor": "white",
            "linecolor": "white",
            "ticks": ""
           },
           "bgcolor": "#E5ECF6",
           "radialaxis": {
            "gridcolor": "white",
            "linecolor": "white",
            "ticks": ""
           }
          },
          "scene": {
           "xaxis": {
            "backgroundcolor": "#E5ECF6",
            "gridcolor": "white",
            "gridwidth": 2,
            "linecolor": "white",
            "showbackground": true,
            "ticks": "",
            "zerolinecolor": "white"
           },
           "yaxis": {
            "backgroundcolor": "#E5ECF6",
            "gridcolor": "white",
            "gridwidth": 2,
            "linecolor": "white",
            "showbackground": true,
            "ticks": "",
            "zerolinecolor": "white"
           },
           "zaxis": {
            "backgroundcolor": "#E5ECF6",
            "gridcolor": "white",
            "gridwidth": 2,
            "linecolor": "white",
            "showbackground": true,
            "ticks": "",
            "zerolinecolor": "white"
           }
          },
          "shapedefaults": {
           "line": {
            "color": "#2a3f5f"
           }
          },
          "ternary": {
           "aaxis": {
            "gridcolor": "white",
            "linecolor": "white",
            "ticks": ""
           },
           "baxis": {
            "gridcolor": "white",
            "linecolor": "white",
            "ticks": ""
           },
           "bgcolor": "#E5ECF6",
           "caxis": {
            "gridcolor": "white",
            "linecolor": "white",
            "ticks": ""
           }
          },
          "title": {
           "x": 0.05
          },
          "xaxis": {
           "automargin": true,
           "gridcolor": "white",
           "linecolor": "white",
           "ticks": "",
           "title": {
            "standoff": 15
           },
           "zerolinecolor": "white",
           "zerolinewidth": 2
          },
          "yaxis": {
           "automargin": true,
           "gridcolor": "white",
           "linecolor": "white",
           "ticks": "",
           "title": {
            "standoff": 15
           },
           "zerolinecolor": "white",
           "zerolinewidth": 2
          }
         }
        },
        "xaxis": {
         "anchor": "y",
         "autorange": true,
         "domain": [
          0,
          1
         ],
         "range": [
          6.274970223805666,
          15.673110647422703
         ],
         "title": {
          "text": "Squared Root Horsepower"
         },
         "type": "linear"
        },
        "yaxis": {
         "anchor": "x",
         "autorange": true,
         "domain": [
          0,
          1
         ],
         "range": [
          6.088713910761155,
          49.511286089238844
         ],
         "title": {
          "text": "MPG"
         },
         "type": "linear"
        }
       }
      },
      "image/png": "[encoded data removed]",
      "text/html": [
       "<div>                            <div id=\"24ff04cc-38c2-4be4-87c1-fe42a303147c\" class=\"plotly-graph-div\" style=\"height:525px; width:100%;\"></div>            <script type=\"text/javascript\">                require([\"plotly\"], function(Plotly) {                    window.PLOTLYENV=window.PLOTLYENV || {};                                    if (document.getElementById(\"24ff04cc-38c2-4be4-87c1-fe42a303147c\")) {                    Plotly.newPlot(                        \"24ff04cc-38c2-4be4-87c1-fe42a303147c\",                        [{\"hovertemplate\":\"Squared Root Horsepower=%{x}<br>MPG=%{y}<extra></extra>\",\"legendgroup\":\"\",\"marker\":{\"color\":\"#636efa\",\"symbol\":\"circle\"},\"mode\":\"markers\",\"name\":\"\",\"orientation\":\"v\",\"showlegend\":false,\"x\":[13.784048752090222,9.486832980505138,9.848857801796104,12.24744871391589,15.0,12.84523257866513,11.40175425099138,14.832396974191326,12.24744871391589,14.142135623730951,13.038404810405298,14.491376746189438,14.66287829861518,14.071247279470288,9.219544457292887,11.832159566199232,13.892443989449804,12.649110640673518,9.746794344808963,14.66287829861518,12.24744871391589,15.0,9.486832980505138,10.63014581273465,9.327379053088816,9.746794344808963,6.782329983125268,9.38083151964686,9.746794344808963,10.0,10.488088481701515,10.0,10.0,12.84523257866513,8.48528137423857,9.486832980505138,13.416407864998739,13.038404810405298,12.36931687685298,9.38083151964686,9.38083151964686,9.273618495495704,8.366600265340756,12.24744871391589,10.246950765959598,13.228756555322953,10.0,13.228756555322953,8.717797887081348,9.486832980505138,8.366600265340756,7.745966692414834,8.306623862918075,9.38083151964686,8.06225774829855,9.746794344808963,12.24744871391589,12.24744871391589,12.449899597988733,11.40175425099138,12.84523257866513,9.486832980505138,13.784048752090222,8.94427190999916,8.94427190999916,12.36931687685298,11.832159566199232,9.273618495495704,9.273618495495704,14.422205101855956,12.649110640673518,12.24744871391589,12.24744871391589,13.228756555322953,9.327379053088816,8.306623862918075,8.717797887081348,7.3484692283495345,10.583005244258363,9.591663046625438,9.848857801796104,9.38083151964686,9.746794344808963,9.848857801796104,13.228756555322953,10.0,10.0,12.24744871391589,13.228756555322953,15.0,12.24744871391589,12.24744871391589,12.041594578792296,12.041594578792296,10.0,8.48528137423857,14.66287829861518,12.24744871391589,12.24744871391589,12.922847983320086,11.704699910719626,12.569805089976535,9.38083151964686,9.219544457292887,10.344080432788601,14.071247279470288,13.416407864998739,13.416407864998739,13.038404810405298,9.746794344808963,12.24744871391589,10.246950765959598,15.165750888103101,9.539392014169456,9.486832980505138,7.0,8.660254037844387,10.488088481701515,6.782329983125268,10.583005244258363,9.695359714832659,9.486832980505138,9.38083151964686,11.045361017187261,10.0,10.488088481701515,12.24744871391589,12.24744871391589,10.0,10.0,8.660254037844387,8.660254037844387,12.24744871391589,11.832159566199232,11.832159566199232,8.94427190999916,9.746794344808963,10.246950765959598,9.1104335791443,8.660254037844387,8.660254037844387,8.18535277187245,8.831760866327848,8.18535277187245,7.810249675906654,8.18535277187245,9.848857801796104,9.643650760992955,8.06225774829855,7.211102550927978,10.0,10.488088481701515,9.486832980505138,10.488088481701515,10.488088481701515,10.246950765959598,12.041594578792296,10.488088481701515,10.246950765959598,12.165525060596439,8.48528137423857,11.357816691600547,9.1104335791443,9.848857801796104,8.48528137423857,9.746794344808963,12.24744871391589,9.746794344808963,8.831760866327848,13.038404810405298,9.746794344808963,9.38083151964686,10.723805294763608,8.426149773176359,8.366600265340756,9.899494936611665,9.848857801796104,7.280109889280518,8.660254037844387,9.797958971132712,9.486832980505138,10.954451150103322,9.746794344808963,13.416407864998739,9.591663046625438,11.832159566199232,7.211102550927978,10.246950765959598,7.745966692414834,12.041594578792296,10.0,8.888194417315589,12.24744871391589,12.24744871391589,11.40175425099138,12.328828005937952,8.831760866327848,9.0,8.48528137423857,10.0,12.24744871391589,10.488088481701515,9.273618495495704,10.954451150103322,9.0,9.38083151964686,9.1104335791443,8.426149773176359,10.099504938362077,8.366600265340756,8.366600265340756,7.280109889280518,8.660254037844387,10.392304845413264,8.94427190999916,10.246950765959598,12.041594578792296,7.937253933193772,10.488088481701515,13.038404810405298,13.784048752090222,9.1104335791443,12.041594578792296,9.899494936611665,9.433981132056603,12.206555615733702,11.40175425099138,10.488088481701515,9.797958971132712,10.0,13.416407864998739,9.38083151964686,10.488088481701515,7.615773105863909,8.831760866327848,8.831760866327848,9.848857801796104,8.366600265340756,8.246211251235321,10.488088481701515,8.18535277187245,8.660254037844387,9.486832980505138,10.954451150103322,10.246950765959598,12.84523257866513,8.246211251235321,9.746794344808963,12.041594578792296,10.488088481701515,11.832159566199232,11.832159566199232,8.660254037844387,9.219544457292887,9.38083151964686,8.12403840463596,11.789826122551595,11.789826122551595,9.219544457292887,10.488088481701515,9.219544457292887,10.246950765959598,10.0,10.246950765959598,10.14889156509222,11.532562594670797,10.723805294763608,6.928203230275509,8.426149773176359,11.180339887498949,9.848857801796104,9.848857801796104,8.366600265340756,8.246211251235321,7.745966692414834,7.211102550927978,9.746794344808963,9.746794344808963,9.486832980505138,8.94427190999916,12.449899597988733,9.486832980505138,11.180339887498949,11.40175425099138,10.723805294763608,11.180339887498949,12.24744871391589,10.488088481701515,8.94427190999916,11.61895003862225,11.916375287812984,9.38083151964686,11.357816691600547,11.74734012447073,9.219544457292887,9.486832980505138,10.723805294763608,8.366600265340756,8.366600265340756,10.723805294763608,9.486832980505138,8.306623862918075,8.774964387392123,8.426149773176359,8.426149773176359,8.06225774829855,8.06225774829855,9.486832980505138,8.366600265340756,9.486832980505138,9.486832980505138,10.246950765959598,9.38083151964686,8.831760866327848,8.18535277187245,8.18535277187245,9.38083151964686,7.874007874011811,6.928203230275509,8.717797887081348,6.928203230275509,8.06225774829855,11.489125293076057,8.06225774829855,9.591663046625438,8.48528137423857,8.18535277187245,8.660254037844387,8.06225774829855,10.0,8.18535277187245,8.660254037844387,7.745966692414834,9.486832980505138,10.488088481701515,9.16515138991168,10.488088481701515,9.219544457292887,9.591663046625438,8.06225774829855,8.06225774829855,9.38083151964686,10.246950765959598,8.0,7.937253933193772,9.16515138991168,9.16515138991168,8.94427190999916,8.602325267042627,8.717797887081348,10.0,8.06225774829855,10.954451150103322,7.745966692414834,8.660254037844387,8.602325267042627,8.246211251235321,8.18535277187245,8.660254037844387,10.770329614269007,7.615773105863909,7.874007874011811,10.488088481701515,9.486832980505138,9.38083151964686,9.38083151964686,9.38083151964686,9.055385138137417,9.591663046625438,9.16515138991168,9.16515138991168,9.16515138991168,9.591663046625438,10.583005244258363,9.273618495495704,8.888194417315589,8.366600265340756,9.219544457292887,7.937253933193772,9.219544457292887,9.486832980505138,8.602325267042627,7.211102550927978,8.18535277187245,8.660254037844387,8.18535277187245,8.18535277187245,8.246211251235321,8.246211251235321,9.38083151964686,9.797958971132712,8.366600265340756],\"xaxis\":\"x\",\"y\":[15.0,21.0,18.0,16.0,14.0,15.0,18.0,14.0,15.0,10.0,15.0,11.0,10.0,15.0,21.0,17.0,9.0,14.0,22.0,14.0,18.0,14.0,24.0,26.0,25.0,25.0,26.0,27.0,24.0,19.0,18.0,18.0,17.0,14.0,22.0,28.0,12.0,13.0,14.0,18.0,19.0,23.0,26.0,14.0,16.0,14.0,19.0,13.0,30.0,28.0,30.0,27.0,35.0,27.0,31.0,25.0,17.0,15.0,13.0,13.0,13.0,20.0,13.0,28.0,25.0,14.0,13.0,22.0,21.0,11.0,12.0,15.0,14.0,14.0,21.0,26.0,22.0,23.0,18.0,28.0,19.0,27.0,24.0,23.0,13.0,18.0,18.0,14.0,13.0,12.0,13.0,11.0,13.0,15.0,16.0,21.0,13.0,15.0,15.0,12.0,14.0,13.0,18.0,19.0,21.0,12.0,11.0,12.0,13.0,23.0,14.0,18.0,16.0,20.0,26.0,29.0,24.0,24.0,26.0,19.0,22.0,18.0,20.0,20.0,19.0,16.0,14.0,13.0,16.0,15.0,25.0,28.0,14.0,16.0,14.0,26.0,20.0,18.0,29.0,26.0,24.0,31.0,26.0,26.0,32.0,31.0,24.0,26.0,32.0,31.0,20.0,15.0,19.0,17.0,21.0,16.0,15.0,20.0,18.0,14.0,15.0,13.0,23.0,18.0,15.0,18.0,16.0,19.0,23.0,16.0,23.0,23.0,25.0,25.0,29.0,22.0,24.0,33.0,29.0,24.0,22.5,15.5,17.5,16.5,25.0,17.5,29.0,22.0,24.5,13.0,20.0,26.0,16.0,13.0,13.0,14.5,18.0,24.0,26.5,22.0,13.0,18.5,28.0,16.5,25.0,19.0,27.0,29.5,20.0,29.0,32.0,33.0,28.0,19.0,30.0,20.5,17.5,30.5,17.5,15.5,15.5,33.5,15.5,18.5,25.5,16.0,15.0,17.0,25.5,19.0,16.0,24.5,21.5,36.0,30.5,29.0,22.0,33.5,31.5,21.5,30.0,26.0,19.4,18.1,20.6,17.7,30.0,20.5,19.2,18.6,19.4,17.5,30.9,20.2,25.1,36.1,18.1,20.2,20.8,19.9,23.8,23.2,20.5,19.2,20.3,16.2,21.6,43.1,31.5,17.0,23.9,27.2,39.4,29.5,36.1,32.8,21.1,27.5,20.2,27.4,16.9,28.4,23.0,17.0,28.8,19.2,18.5,20.6,35.7,18.2,15.5,22.3,17.6,16.5,19.8,23.9,26.8,34.2,34.5,21.5,33.5,37.3,25.4,27.2,31.9,31.8,34.1,24.3,32.1,28.0,19.1,27.9,26.4,34.3,36.4,30.0,35.0,29.8,43.4,41.5,44.3,40.8,32.7,37.2,37.0,32.4,44.6,31.3,46.6,23.7,33.8,32.2,38.1,29.8,22.4,26.6,23.5,17.6,25.8,29.9,34.4,20.2,26.6,39.0,34.7,27.2,30.0,28.1,33.0,30.7,32.9,37.0,24.2,35.1,33.7,31.6,34.1,32.3,32.4,25.4,39.1,37.7,25.0,27.0,28.0,34.0,27.0,31.0,26.0,29.0,36.0,32.0,24.0,22.0,27.0,28.0,36.0,38.0,38.0,31.0,27.0,36.0,44.0,38.0,36.0,38.0,32.0,31.0,37.0,36.0,32.0,34.0],\"yaxis\":\"y\",\"type\":\"scatter\"}],                        {\"template\":{\"data\":{\"histogram2dcontour\":[{\"type\":\"histogram2dcontour\",\"colorbar\":{\"outlinewidth\":0,\"ticks\":\"\"},\"colorscale\":[[0.0,\"#0d0887\"],[0.1111111111111111,\"#46039f\"],[0.2222222222222222,\"#7201a8\"],[0.3333333333333333,\"#9c179e\"],[0.4444444444444444,\"#bd3786\"],[0.5555555555555556,\"#d8576b\"],[0.6666666666666666,\"#ed7953\"],[0.7777777777777778,\"#fb9f3a\"],[0.8888888888888888,\"#fdca26\"],[1.0,\"#f0f921\"]]}],\"choropleth\":[{\"type\":\"choropleth\",\"colorbar\":{\"outlinewidth\":0,\"ticks\":\"\"}}],\"histogram2d\":[{\"type\":\"histogram2d\",\"colorbar\":{\"outlinewidth\":0,\"ticks\":\"\"},\"colorscale\":[[0.0,\"#0d0887\"],[0.1111111111111111,\"#46039f\"],[0.2222222222222222,\"#7201a8\"],[0.3333333333333333,\"#9c179e\"],[0.4444444444444444,\"#bd3786\"],[0.5555555555555556,\"#d8576b\"],[0.6666666666666666,\"#ed7953\"],[0.7777777777777778,\"#fb9f3a\"],[0.8888888888888888,\"#fdca26\"],[1.0,\"#f0f921\"]]}],\"heatmap\":[{\"type\":\"heatmap\",\"colorbar\":{\"outlinewidth\":0,\"ticks\":\"\"},\"colorscale\":[[0.0,\"#0d0887\"],[0.1111111111111111,\"#46039f\"],[0.2222222222222222,\"#7201a8\"],[0.3333333333333333,\"#9c179e\"],[0.4444444444444444,\"#bd3786\"],[0.5555555555555556,\"#d8576b\"],[0.6666666666666666,\"#ed7953\"],[0.7777777777777778,\"#fb9f3a\"],[0.8888888888888888,\"#fdca26\"],[1.0,\"#f0f921\"]]}],\"heatmapgl\":[{\"type\":\"heatmapgl\",\"colorbar\":{\"outlinewidth\":0,\"ticks\":\"\"},\"colorscale\":[[0.0,\"#0d0887\"],[0.1111111111111111,\"#46039f\"],[0.2222222222222222,\"#7201a8\"],[0.3333333333333333,\"#9c179e\"],[0.4444444444444444,\"#bd3786\"],[0.5555555555555556,\"#d8576b\"],[0.6666666666666666,\"#ed7953\"],[0.7777777777777778,\"#fb9f3a\"],[0.8888888888888888,\"#fdca26\"],[1.0,\"#f0f921\"]]}],\"contourcarpet\":[{\"type\":\"contourcarpet\",\"colorbar\":{\"outlinewidth\":0,\"ticks\":\"\"}}],\"contour\":[{\"type\":\"contour\",\"colorbar\":{\"outlinewidth\":0,\"ticks\":\"\"},\"colorscale\":[[0.0,\"#0d0887\"],[0.1111111111111111,\"#46039f\"],[0.2222222222222222,\"#7201a8\"],[0.3333333333333333,\"#9c179e\"],[0.4444444444444444,\"#bd3786\"],[0.5555555555555556,\"#d8576b\"],[0.6666666666666666,\"#ed7953\"],[0.7777777777777778,\"#fb9f3a\"],[0.8888888888888888,\"#fdca26\"],[1.0,\"#f0f921\"]]}],\"surface\":[{\"type\":\"surface\",\"colorbar\":{\"outlinewidth\":0,\"ticks\":\"\"},\"colorscale\":[[0.0,\"#0d0887\"],[0.1111111111111111,\"#46039f\"],[0.2222222222222222,\"#7201a8\"],[0.3333333333333333,\"#9c179e\"],[0.4444444444444444,\"#bd3786\"],[0.5555555555555556,\"#d8576b\"],[0.6666666666666666,\"#ed7953\"],[0.7777777777777778,\"#fb9f3a\"],[0.8888888888888888,\"#fdca26\"],[1.0,\"#f0f921\"]]}],\"mesh3d\":[{\"type\":\"mesh3d\",\"colorbar\":{\"outlinewidth\":0,\"ticks\":\"\"}}],\"scatter\":[{\"fillpattern\":{\"fillmode\":\"overlay\",\"size\":10,\"solidity\":0.2},\"type\":\"scatter\"}],\"parcoords\":[{\"type\":\"parcoords\",\"line\":{\"colorbar\":{\"outlinewidth\":0,\"ticks\":\"\"}}}],\"scatterpolargl\":[{\"type\":\"scatterpolargl\",\"marker\":{\"colorbar\":{\"outlinewidth\":0,\"ticks\":\"\"}}}],\"bar\":[{\"error_x\":{\"color\":\"#2a3f5f\"},\"error_y\":{\"color\":\"#2a3f5f\"},\"marker\":{\"line\":{\"color\":\"#E5ECF6\",\"width\":0.5},\"pattern\":{\"fillmode\":\"overlay\",\"size\":10,\"solidity\":0.2}},\"type\":\"bar\"}],\"scattergeo\":[{\"type\":\"scattergeo\",\"marker\":{\"colorbar\":{\"outlinewidth\":0,\"ticks\":\"\"}}}],\"scatterpolar\":[{\"type\":\"scatterpolar\",\"marker\":{\"colorbar\":{\"outlinewidth\":0,\"ticks\":\"\"}}}],\"histogram\":[{\"marker\":{\"pattern\":{\"fillmode\":\"overlay\",\"size\":10,\"solidity\":0.2}},\"type\":\"histogram\"}],\"scattergl\":[{\"type\":\"scattergl\",\"marker\":{\"colorbar\":{\"outlinewidth\":0,\"ticks\":\"\"}}}],\"scatter3d\":[{\"type\":\"scatter3d\",\"line\":{\"colorbar\":{\"outlinewidth\":0,\"ticks\":\"\"}},\"marker\":{\"colorbar\":{\"outlinewidth\":0,\"ticks\":\"\"}}}],\"scattermapbox\":[{\"type\":\"scattermapbox\",\"marker\":{\"colorbar\":{\"outlinewidth\":0,\"ticks\":\"\"}}}],\"scatterternary\":[{\"type\":\"scatterternary\",\"marker\":{\"colorbar\":{\"outlinewidth\":0,\"ticks\":\"\"}}}],\"scattercarpet\":[{\"type\":\"scattercarpet\",\"marker\":{\"colorbar\":{\"outlinewidth\":0,\"ticks\":\"\"}}}],\"carpet\":[{\"aaxis\":{\"endlinecolor\":\"#2a3f5f\",\"gridcolor\":\"white\",\"linecolor\":\"white\",\"minorgridcolor\":\"white\",\"startlinecolor\":\"#2a3f5f\"},\"baxis\":{\"endlinecolor\":\"#2a3f5f\",\"gridcolor\":\"white\",\"linecolor\":\"white\",\"minorgridcolor\":\"white\",\"startlinecolor\":\"#2a3f5f\"},\"type\":\"carpet\"}],\"table\":[{\"cells\":{\"fill\":{\"color\":\"#EBF0F8\"},\"line\":{\"color\":\"white\"}},\"header\":{\"fill\":{\"color\":\"#C8D4E3\"},\"line\":{\"color\":\"white\"}},\"type\":\"table\"}],\"barpolar\":[{\"marker\":{\"line\":{\"color\":\"#E5ECF6\",\"width\":0.5},\"pattern\":{\"fillmode\":\"overlay\",\"size\":10,\"solidity\":0.2}},\"type\":\"barpolar\"}],\"pie\":[{\"automargin\":true,\"type\":\"pie\"}]},\"layout\":{\"autotypenumbers\":\"strict\",\"colorway\":[\"#636efa\",\"#EF553B\",\"#00cc96\",\"#ab63fa\",\"#FFA15A\",\"#19d3f3\",\"#FF6692\",\"#B6E880\",\"#FF97FF\",\"#FECB52\"],\"font\":{\"color\":\"#2a3f5f\"},\"hovermode\":\"closest\",\"hoverlabel\":{\"align\":\"left\"},\"paper_bgcolor\":\"white\",\"plot_bgcolor\":\"#E5ECF6\",\"polar\":{\"bgcolor\":\"#E5ECF6\",\"angularaxis\":{\"gridcolor\":\"white\",\"linecolor\":\"white\",\"ticks\":\"\"},\"radialaxis\":{\"gridcolor\":\"white\",\"linecolor\":\"white\",\"ticks\":\"\"}},\"ternary\":{\"bgcolor\":\"#E5ECF6\",\"aaxis\":{\"gridcolor\":\"white\",\"linecolor\":\"white\",\"ticks\":\"\"},\"baxis\":{\"gridcolor\":\"white\",\"linecolor\":\"white\",\"ticks\":\"\"},\"caxis\":{\"gridcolor\":\"white\",\"linecolor\":\"white\",\"ticks\":\"\"}},\"coloraxis\":{\"colorbar\":{\"outlinewidth\":0,\"ticks\":\"\"}},\"colorscale\":{\"sequential\":[[0.0,\"#0d0887\"],[0.1111111111111111,\"#46039f\"],[0.2222222222222222,\"#7201a8\"],[0.3333333333333333,\"#9c179e\"],[0.4444444444444444,\"#bd3786\"],[0.5555555555555556,\"#d8576b\"],[0.6666666666666666,\"#ed7953\"],[0.7777777777777778,\"#fb9f3a\"],[0.8888888888888888,\"#fdca26\"],[1.0,\"#f0f921\"]],\"sequentialminus\":[[0.0,\"#0d0887\"],[0.1111111111111111,\"#46039f\"],[0.2222222222222222,\"#7201a8\"],[0.3333333333333333,\"#9c179e\"],[0.4444444444444444,\"#bd3786\"],[0.5555555555555556,\"#d8576b\"],[0.6666666666666666,\"#ed7953\"],[0.7777777777777778,\"#fb9f3a\"],[0.8888888888888888,\"#fdca26\"],[1.0,\"#f0f921\"]],\"diverging\":[[0,\"#8e0152\"],[0.1,\"#c51b7d\"],[0.2,\"#de77ae\"],[0.3,\"#f1b6da\"],[0.4,\"#fde0ef\"],[0.5,\"#f7f7f7\"],[0.6,\"#e6f5d0\"],[0.7,\"#b8e186\"],[0.8,\"#7fbc41\"],[0.9,\"#4d9221\"],[1,\"#276419\"]]},\"xaxis\":{\"gridcolor\":\"white\",\"linecolor\":\"white\",\"ticks\":\"\",\"title\":{\"standoff\":15},\"zerolinecolor\":\"white\",\"automargin\":true,\"zerolinewidth\":2},\"yaxis\":{\"gridcolor\":\"white\",\"linecolor\":\"white\",\"ticks\":\"\",\"title\":{\"standoff\":15},\"zerolinecolor\":\"white\",\"automargin\":true,\"zerolinewidth\":2},\"scene\":{\"xaxis\":{\"backgroundcolor\":\"#E5ECF6\",\"gridcolor\":\"white\",\"linecolor\":\"white\",\"showbackground\":true,\"ticks\":\"\",\"zerolinecolor\":\"white\",\"gridwidth\":2},\"yaxis\":{\"backgroundcolor\":\"#E5ECF6\",\"gridcolor\":\"white\",\"linecolor\":\"white\",\"showbackground\":true,\"ticks\":\"\",\"zerolinecolor\":\"white\",\"gridwidth\":2},\"zaxis\":{\"backgroundcolor\":\"#E5ECF6\",\"gridcolor\":\"white\",\"linecolor\":\"white\",\"showbackground\":true,\"ticks\":\"\",\"zerolinecolor\":\"white\",\"gridwidth\":2}},\"shapedefaults\":{\"line\":{\"color\":\"#2a3f5f\"}},\"annotationdefaults\":{\"arrowcolor\":\"#2a3f5f\",\"arrowhead\":0,\"arrowwidth\":1},\"geo\":{\"bgcolor\":\"white\",\"landcolor\":\"#E5ECF6\",\"subunitcolor\":\"white\",\"showland\":true,\"showlakes\":true,\"lakecolor\":\"white\"},\"title\":{\"x\":0.05},\"mapbox\":{\"style\":\"light\"}}},\"xaxis\":{\"anchor\":\"y\",\"domain\":[0.0,1.0],\"title\":{\"text\":\"Squared Root Horsepower\"}},\"yaxis\":{\"anchor\":\"x\",\"domain\":[0.0,1.0],\"title\":{\"text\":\"MPG\"}},\"legend\":{\"tracegroupgap\":0},\"margin\":{\"t\":60}},                        {\"responsive\": true}                    ).then(function(){\n",
       "                            \n",
       "var gd = document.getElementById('24ff04cc-38c2-4be4-87c1-fe42a303147c');\n",
       "var x = new MutationObserver(function (mutations, observer) {{\n",
       "        var display = window.getComputedStyle(gd).display;\n",
       "        if (!display || display === 'none') {{\n",
       "            console.log([gd, 'removed!']);\n",
       "            Plotly.purge(gd);\n",
       "            observer.disconnect();\n",
       "        }}\n",
       "}});\n",
       "\n",
       "// Listen for the removal of the full notebook cells\n",
       "var notebookContainer = gd.closest('#notebook-container');\n",
       "if (notebookContainer) {{\n",
       "    x.observe(notebookContainer, {childList: true});\n",
       "}}\n",
       "\n",
       "// Listen for the clearing of the current output cell\n",
       "var outputEl = gd.closest('.output');\n",
       "if (outputEl) {{\n",
       "    x.observe(outputEl, {childList: true});\n",
       "}}\n",
       "\n",
       "                        })                };                });            </script>        </div>"
      ]
     },
     "metadata": {},
     "output_type": "display_data"
    }
   ],
   "source": [
    "fig = px.scatter(df, x=\"Squared Root Horsepower\", y= \"MPG\")\n",
    "fig.show()"
   ]
  },
  {
   "cell_type": "code",
   "execution_count": 28,
   "metadata": {
    "tags": []
   },
   "outputs": [
    {
     "data": {
      "text/plain": [
       "<Axes: xlabel='Weight', ylabel='MPG'>"
      ]
     },
     "execution_count": 28,
     "metadata": {},
     "output_type": "execute_result"
    },
    {
     "data": {
      "image/png": "[encoded data removed]",
      "text/plain": [
       "<Figure size 640x480 with 1 Axes>"
      ]
     },
     "metadata": {},
     "output_type": "display_data"
    }
   ],
   "source": [
    "df.plot.scatter(x = \"Weight\", y = \"MPG\")"
   ]
  },
  {
   "cell_type": "markdown",
   "metadata": {},
   "source": [
    "## Task 2 - Identify the target column and the data columns\n"
   ]
  },
  {
   "cell_type": "markdown",
   "metadata": {},
   "source": [
    "First we identify the target. Target is the value that our machine learning model needs to predict\n"
   ]
  },
  {
   "cell_type": "code",
   "execution_count": 29,
   "metadata": {
    "tags": []
   },
   "outputs": [],
   "source": [
    "target = df[\"MPG\"]"
   ]
  },
  {
   "cell_type": "markdown",
   "metadata": {},
   "source": [
    "We identify the features next. Features are the values our machine learning model learns from\n"
   ]
  },
  {
   "cell_type": "code",
   "execution_count": 30,
   "metadata": {
    "tags": []
   },
   "outputs": [],
   "source": [
    "features = df[[\"Horsepower\",\"Weight\"]]\n",
    "features_squared = df[[\"Horsepower\",\"Squared Horsepower\",\"Weight\", \"Squared Weight\"]] ##bonus"
   ]
  },
  {
   "cell_type": "markdown",
   "metadata": {},
   "source": [
    "## Task 3 - Build and Train a Linear Regression Model\n"
   ]
  },
  {
   "cell_type": "markdown",
   "metadata": {},
   "source": [
    "Create a LR model\n"
   ]
  },
  {
   "cell_type": "code",
   "execution_count": 31,
   "metadata": {
    "tags": []
   },
   "outputs": [],
   "source": [
    "lr = LinearRegression()\n",
    "lr_squared = LinearRegression()"
   ]
  },
  {
   "cell_type": "markdown",
   "metadata": {},
   "source": [
    "Train/Fit the model\n"
   ]
  },
  {
   "cell_type": "code",
   "execution_count": 32,
   "metadata": {
    "tags": []
   },
   "outputs": [
    {
     "data": {
      "text/html": [
       "<style>#sk-container-id-2 {color: black;}#sk-container-id-2 pre{padding: 0;}#sk-container-id-2 div.sk-toggleable {background-color: white;}#sk-container-id-2 label.sk-toggleable__label {cursor: pointer;display: block;width: 100%;margin-bottom: 0;padding: 0.3em;box-sizing: border-box;text-align: center;}#sk-container-id-2 label.sk-toggleable__label-arrow:before {content: \"▸\";float: left;margin-right: 0.25em;color: #696969;}#sk-container-id-2 label.sk-toggleable__label-arrow:hover:before {color: black;}#sk-container-id-2 div.sk-estimator:hover label.sk-toggleable__label-arrow:before {color: black;}#sk-container-id-2 div.sk-toggleable__content {max-height: 0;max-width: 0;overflow: hidden;text-align: left;background-color: #f0f8ff;}#sk-container-id-2 div.sk-toggleable__content pre {margin: 0.2em;color: black;border-radius: 0.25em;background-color: #f0f8ff;}#sk-container-id-2 input.sk-toggleable__control:checked~div.sk-toggleable__content {max-height: 200px;max-width: 100%;overflow: auto;}#sk-container-id-2 input.sk-toggleable__control:checked~label.sk-toggleable__label-arrow:before {content: \"▾\";}#sk-container-id-2 div.sk-estimator input.sk-toggleable__control:checked~label.sk-toggleable__label {background-color: #d4ebff;}#sk-container-id-2 div.sk-label input.sk-toggleable__control:checked~label.sk-toggleable__label {background-color: #d4ebff;}#sk-container-id-2 input.sk-hidden--visually {border: 0;clip: rect(1px 1px 1px 1px);clip: rect(1px, 1px, 1px, 1px);height: 1px;margin: -1px;overflow: hidden;padding: 0;position: absolute;width: 1px;}#sk-container-id-2 div.sk-estimator {font-family: monospace;background-color: #f0f8ff;border: 1px dotted black;border-radius: 0.25em;box-sizing: border-box;margin-bottom: 0.5em;}#sk-container-id-2 div.sk-estimator:hover {background-color: #d4ebff;}#sk-container-id-2 div.sk-parallel-item::after {content: \"\";width: 100%;border-bottom: 1px solid gray;flex-grow: 1;}#sk-container-id-2 div.sk-label:hover label.sk-toggleable__label {background-color: #d4ebff;}#sk-container-id-2 div.sk-serial::before {content: \"\";position: absolute;border-left: 1px solid gray;box-sizing: border-box;top: 0;bottom: 0;left: 50%;z-index: 0;}#sk-container-id-2 div.sk-serial {display: flex;flex-direction: column;align-items: center;background-color: white;padding-right: 0.2em;padding-left: 0.2em;position: relative;}#sk-container-id-2 div.sk-item {position: relative;z-index: 1;}#sk-container-id-2 div.sk-parallel {display: flex;align-items: stretch;justify-content: center;background-color: white;position: relative;}#sk-container-id-2 div.sk-item::before, #sk-container-id-2 div.sk-parallel-item::before {content: \"\";position: absolute;border-left: 1px solid gray;box-sizing: border-box;top: 0;bottom: 0;left: 50%;z-index: -1;}#sk-container-id-2 div.sk-parallel-item {display: flex;flex-direction: column;z-index: 1;position: relative;background-color: white;}#sk-container-id-2 div.sk-parallel-item:first-child::after {align-self: flex-end;width: 50%;}#sk-container-id-2 div.sk-parallel-item:last-child::after {align-self: flex-start;width: 50%;}#sk-container-id-2 div.sk-parallel-item:only-child::after {width: 0;}#sk-container-id-2 div.sk-dashed-wrapped {border: 1px dashed gray;margin: 0 0.4em 0.5em 0.4em;box-sizing: border-box;padding-bottom: 0.4em;background-color: white;}#sk-container-id-2 div.sk-label label {font-family: monospace;font-weight: bold;display: inline-block;line-height: 1.2em;}#sk-container-id-2 div.sk-label-container {text-align: center;}#sk-container-id-2 div.sk-container {/* jupyter's `normalize.less` sets `[hidden] { display: none; }` but bootstrap.min.css set `[hidden] { display: none !important; }` so we also need the `!important` here to be able to override the default hidden behavior on the sphinx rendered scikit-learn.org. See: https://github.com/scikit-learn/scikit-learn/issues/21755 */display: inline-block !important;position: relative;}#sk-container-id-2 div.sk-text-repr-fallback {display: none;}</style><div id=\"sk-container-id-2\" class=\"sk-top-container\"><div class=\"sk-text-repr-fallback\"><pre>LinearRegression()</pre><b>In a Jupyter environment, please rerun this cell to show the HTML representation or trust the notebook. <br />On GitHub, the HTML representation is unable to render, please try loading this page with nbviewer.org.</b></div><div class=\"sk-container\" hidden><div class=\"sk-item\"><div class=\"sk-estimator sk-toggleable\"><input class=\"sk-toggleable__control sk-hidden--visually\" id=\"sk-estimator-id-2\" type=\"checkbox\" checked><label for=\"sk-estimator-id-2\" class=\"sk-toggleable__label sk-toggleable__label-arrow\">LinearRegression</label><div class=\"sk-toggleable__content\"><pre>LinearRegression()</pre></div></div></div></div></div>"
      ],
      "text/plain": [
       "LinearRegression()"
      ]
     },
     "execution_count": 32,
     "metadata": {},
     "output_type": "execute_result"
    }
   ],
   "source": [
    "lr.fit(features,target)\n",
    "lr_squared.fit(features_squared,target)"
   ]
  },
  {
   "cell_type": "markdown",
   "metadata": {},
   "source": [
    "## Task 4 - Evaluate the model and make predictions\n"
   ]
  },
  {
   "cell_type": "markdown",
   "metadata": {},
   "source": [
    "Your model is now trained. Time to evaluate the model.\n"
   ]
  },
  {
   "cell_type": "code",
   "execution_count": 33,
   "metadata": {
    "tags": []
   },
   "outputs": [
    {
     "name": "stdout",
     "output_type": "stream",
     "text": [
      "R^2 = 0.7063752737298348 (linear features)\n",
      "R^2 = 0.7481197739203864 (Squared features)\n"
     ]
    }
   ],
   "source": [
    "#Higher the score, better the model.\n",
    "# R-squared is called the coefficient of determination, and its most general definition is\n",
    "# R^2 = 1 - SS_res/SS_tot\n",
    "# with SS_res the residual sum of squares and SS_tot the total sum of squares.\n",
    "# It is equal to 0 for the trivial model and 1 for a perfect model. \n",
    "# In some cases, as in simple linear regression, it can be expressed ad\n",
    "# R^2 = SS_reg/SS_tot\n",
    "# with SS_reg the explained sum of squares: in this case, R^2 is the amount\n",
    "# of variance in the dependent variable that can be explained by the independent variable\n",
    "print(\"R^2 =\", lr.score(features,target), \"(linear features)\")\n",
    "print(\"R^2 =\",lr_squared.score(features_squared, target), \"(Squared features)\")"
   ]
  },
  {
   "cell_type": "code",
   "execution_count": 34,
   "metadata": {
    "tags": []
   },
   "outputs": [],
   "source": [
    "prediction=lr.predict(features)\n",
    "#plt.scatter(features.Horsepower, df[\"MPG\"])\n",
    "#plt.plot(features.Horsepower, prediction, color=\"red\")"
   ]
  },
  {
   "cell_type": "markdown",
   "metadata": {},
   "source": [
    "Make predictions. Let us predict the mileage for a car with HorsePower = 100 and Weight = 2000\n"
   ]
  },
  {
   "cell_type": "code",
   "execution_count": 39,
   "metadata": {},
   "outputs": [
    {
     "data": {
      "text/html": [
       "<div>\n",
       "<style scoped>\n",
       "    .dataframe tbody tr th:only-of-type {\n",
       "        vertical-align: middle;\n",
       "    }\n",
       "\n",
       "    .dataframe tbody tr th {\n",
       "        vertical-align: top;\n",
       "    }\n",
       "\n",
       "    .dataframe thead th {\n",
       "        text-align: right;\n",
       "    }\n",
       "</style>\n",
       "<table border=\"1\" class=\"dataframe\">\n",
       "  <thead>\n",
       "    <tr style=\"text-align: right;\">\n",
       "      <th></th>\n",
       "      <th>Horsepower</th>\n",
       "      <th>Squared Horsepower</th>\n",
       "      <th>Weight</th>\n",
       "      <th>Squared Weight</th>\n",
       "    </tr>\n",
       "  </thead>\n",
       "  <tbody>\n",
       "    <tr>\n",
       "      <th>0</th>\n",
       "      <td>190</td>\n",
       "      <td>36100</td>\n",
       "      <td>3850</td>\n",
       "      <td>14822500</td>\n",
       "    </tr>\n",
       "    <tr>\n",
       "      <th>1</th>\n",
       "      <td>90</td>\n",
       "      <td>8100</td>\n",
       "      <td>2648</td>\n",
       "      <td>7011904</td>\n",
       "    </tr>\n",
       "    <tr>\n",
       "      <th>2</th>\n",
       "      <td>97</td>\n",
       "      <td>9409</td>\n",
       "      <td>2774</td>\n",
       "      <td>7695076</td>\n",
       "    </tr>\n",
       "    <tr>\n",
       "      <th>3</th>\n",
       "      <td>150</td>\n",
       "      <td>22500</td>\n",
       "      <td>3433</td>\n",
       "      <td>11785489</td>\n",
       "    </tr>\n",
       "    <tr>\n",
       "      <th>4</th>\n",
       "      <td>225</td>\n",
       "      <td>50625</td>\n",
       "      <td>3086</td>\n",
       "      <td>9523396</td>\n",
       "    </tr>\n",
       "  </tbody>\n",
       "</table>\n",
       "</div>"
      ],
      "text/plain": [
       "   Horsepower  Squared Horsepower  Weight  Squared Weight\n",
       "0         190               36100    3850        14822500\n",
       "1          90                8100    2648         7011904\n",
       "2          97                9409    2774         7695076\n",
       "3         150               22500    3433        11785489\n",
       "4         225               50625    3086         9523396"
      ]
     },
     "execution_count": 39,
     "metadata": {},
     "output_type": "execute_result"
    }
   ],
   "source": [
    "features_squared.head()"
   ]
  },
  {
   "cell_type": "code",
   "execution_count": 40,
   "metadata": {
    "tags": []
   },
   "outputs": [
    {
     "name": "stdout",
     "output_type": "stream",
     "text": [
      "Predicted MPG =  [29.3216098] (linear feature)\n",
      "Predicted MPG =  [25.83165019] (Squared features)\n"
     ]
    }
   ],
   "source": [
    "print(\"Predicted MPG = \",lr.predict([[100,2000]]), \"(linear feature)\")\n",
    "print(\"Predicted MPG = \", lr_squared.predict([[100,10000,2000,2000000]]),\"(Squared features)\")"
   ]
  },
  {
   "cell_type": "code",
   "execution_count": 41,
   "metadata": {},
   "outputs": [],
   "source": [
    "# 29.3216098 miles per gallon is the mileage of a car with HorsePower = 100 and Weight = 2000"
   ]
  },
  {
   "cell_type": "code",
   "execution_count": 42,
   "metadata": {
    "tags": []
   },
   "outputs": [],
   "source": [
    "prediction=lr.predict(features)\n",
    "a0=lr.intercept_\n",
    "a1=lr.coef_[0]\n",
    "a2=lr.coef_[1]\n",
    "def f(x1,x2):\n",
    "    return a0+a1*x1+a2*x2"
   ]
  },
  {
   "cell_type": "code",
   "execution_count": 43,
   "metadata": {
    "tags": []
   },
   "outputs": [
    {
     "data": {
      "text/html": [
       "<div>\n",
       "<style scoped>\n",
       "    .dataframe tbody tr th:only-of-type {\n",
       "        vertical-align: middle;\n",
       "    }\n",
       "\n",
       "    .dataframe tbody tr th {\n",
       "        vertical-align: top;\n",
       "    }\n",
       "\n",
       "    .dataframe thead th {\n",
       "        text-align: right;\n",
       "    }\n",
       "</style>\n",
       "<table border=\"1\" class=\"dataframe\">\n",
       "  <thead>\n",
       "    <tr style=\"text-align: right;\">\n",
       "      <th></th>\n",
       "      <th>Horsepower</th>\n",
       "      <th>Squared Horsepower</th>\n",
       "      <th>Weight</th>\n",
       "      <th>Squared Weight</th>\n",
       "    </tr>\n",
       "  </thead>\n",
       "  <tbody>\n",
       "    <tr>\n",
       "      <th>0</th>\n",
       "      <td>190</td>\n",
       "      <td>36100</td>\n",
       "      <td>3850</td>\n",
       "      <td>14822500</td>\n",
       "    </tr>\n",
       "    <tr>\n",
       "      <th>1</th>\n",
       "      <td>90</td>\n",
       "      <td>8100</td>\n",
       "      <td>2648</td>\n",
       "      <td>7011904</td>\n",
       "    </tr>\n",
       "    <tr>\n",
       "      <th>2</th>\n",
       "      <td>97</td>\n",
       "      <td>9409</td>\n",
       "      <td>2774</td>\n",
       "      <td>7695076</td>\n",
       "    </tr>\n",
       "    <tr>\n",
       "      <th>3</th>\n",
       "      <td>150</td>\n",
       "      <td>22500</td>\n",
       "      <td>3433</td>\n",
       "      <td>11785489</td>\n",
       "    </tr>\n",
       "    <tr>\n",
       "      <th>4</th>\n",
       "      <td>225</td>\n",
       "      <td>50625</td>\n",
       "      <td>3086</td>\n",
       "      <td>9523396</td>\n",
       "    </tr>\n",
       "  </tbody>\n",
       "</table>\n",
       "</div>"
      ],
      "text/plain": [
       "   Horsepower  Squared Horsepower  Weight  Squared Weight\n",
       "0         190               36100    3850        14822500\n",
       "1          90                8100    2648         7011904\n",
       "2          97                9409    2774         7695076\n",
       "3         150               22500    3433        11785489\n",
       "4         225               50625    3086         9523396"
      ]
     },
     "execution_count": 43,
     "metadata": {},
     "output_type": "execute_result"
    }
   ],
   "source": [
    "prediction_squared=lr_squared.predict(features_squared)\n",
    "a0=lr_squared.intercept_\n",
    "a1=lr_squared.coef_[0]\n",
    "a2=lr_squared.coef_[1]\n",
    "a3=lr_squared.coef_[2]\n",
    "a4=lr_squared.coef_[3]\n",
    "def g(x1,x2):\n",
    "    return  a0+ a1*x1+ a2*(x1**2)+ a3*x2+ a4*(x2**2)  \n",
    "features_squared.head()"
   ]
  },
  {
   "cell_type": "code",
   "execution_count": 44,
   "metadata": {
    "tags": []
   },
   "outputs": [
    {
     "data": {
      "image/png": "[encoded data removed]",
      "text/plain": [
       "<Figure size 640x480 with 1 Axes>"
      ]
     },
     "metadata": {},
     "output_type": "display_data"
    }
   ],
   "source": [
    "#plt.scatter(features.Horsepower, target, color='g')\n",
    "#plt.plot(features.Horsepower, lr.predict(features),color='r')\n",
    "\n",
    "fig = plt.figure()\n",
    "x = features.Horsepower\n",
    "y = features.Weight\n",
    "X, Y = np.meshgrid(x, y)\n",
    "Z = df[\"MPG\"]\n",
    "\n",
    "ax = plt.axes(projection='3d')\n",
    "ax.scatter(x,y,Z)\n",
    "ax.contour3D(X, Y, f(X,Y) , 100, cmap='plasma')\n",
    "ax.set_xlabel('Horsepower')\n",
    "ax.set_ylabel('Weight')\n",
    "ax.set_zlabel('MPG')\n",
    "\n",
    "#ax.view_init(elev=22, azim=70)\n",
    "plt.show()\n"
   ]
  },
  {
   "cell_type": "code",
   "execution_count": 45,
   "metadata": {
    "tags": []
   },
   "outputs": [
    {
     "data": {
      "image/png": "[encoded data removed]",
      "text/plain": [
       "<Figure size 640x480 with 1 Axes>"
      ]
     },
     "metadata": {},
     "output_type": "display_data"
    }
   ],
   "source": [
    "#plt.scatter(features.Horsepower, target, color='g')\n",
    "#plt.plot(features.Horsepower, lr.predict(features),color='r')\n",
    "\n",
    "fig = plt.figure()\n",
    "x = features.Horsepower\n",
    "y = features.Weight\n",
    "X, Y = np.meshgrid(x, y)\n",
    "Z = df[\"MPG\"]\n",
    "\n",
    "ax = plt.axes(projection='3d')\n",
    "ax.scatter(x,y,Z)\n",
    "ax.contour3D(X, Y, g(X,Y) , 200, cmap='plasma')\n",
    "ax.set_xlabel('Horsepower')\n",
    "ax.set_ylabel('Weight')\n",
    "ax.set_zlabel('MPG')\n",
    "\n",
    "#ax.view_init(elev=22, azim=70)\n",
    "plt.show()\n"
   ]
  },
  {
   "cell_type": "markdown",
   "metadata": {},
   "source": [
    "# Exercises\n"
   ]
  },
  {
   "cell_type": "code",
   "execution_count": 46,
   "metadata": {
    "tags": []
   },
   "outputs": [],
   "source": [
    "URL2 = \"https://cf-courses-data.s3.us.cloud-object-storage.appdomain.cloud/IBM-BD0231EN-SkillsNetwork/datasets/diamonds.csv\""
   ]
  },
  {
   "cell_type": "markdown",
   "metadata": {},
   "source": [
    "### Exercise 1 - Loading a dataset (diamond dataset)\n"
   ]
  },
  {
   "cell_type": "code",
   "execution_count": 47,
   "metadata": {
    "tags": []
   },
   "outputs": [
    {
     "data": {
      "text/html": [
       "<div>\n",
       "<style scoped>\n",
       "    .dataframe tbody tr th:only-of-type {\n",
       "        vertical-align: middle;\n",
       "    }\n",
       "\n",
       "    .dataframe tbody tr th {\n",
       "        vertical-align: top;\n",
       "    }\n",
       "\n",
       "    .dataframe thead th {\n",
       "        text-align: right;\n",
       "    }\n",
       "</style>\n",
       "<table border=\"1\" class=\"dataframe\">\n",
       "  <thead>\n",
       "    <tr style=\"text-align: right;\">\n",
       "      <th></th>\n",
       "      <th>s</th>\n",
       "      <th>carat</th>\n",
       "      <th>cut</th>\n",
       "      <th>color</th>\n",
       "      <th>clarity</th>\n",
       "      <th>depth</th>\n",
       "      <th>table</th>\n",
       "      <th>price</th>\n",
       "      <th>x</th>\n",
       "      <th>y</th>\n",
       "      <th>z</th>\n",
       "    </tr>\n",
       "  </thead>\n",
       "  <tbody>\n",
       "    <tr>\n",
       "      <th>2392</th>\n",
       "      <td>2393</td>\n",
       "      <td>0.32</td>\n",
       "      <td>Ideal</td>\n",
       "      <td>H</td>\n",
       "      <td>VS1</td>\n",
       "      <td>61.1</td>\n",
       "      <td>56.0</td>\n",
       "      <td>561</td>\n",
       "      <td>4.44</td>\n",
       "      <td>4.46</td>\n",
       "      <td>2.72</td>\n",
       "    </tr>\n",
       "    <tr>\n",
       "      <th>12538</th>\n",
       "      <td>12539</td>\n",
       "      <td>1.20</td>\n",
       "      <td>Premium</td>\n",
       "      <td>E</td>\n",
       "      <td>SI2</td>\n",
       "      <td>58.2</td>\n",
       "      <td>59.0</td>\n",
       "      <td>5268</td>\n",
       "      <td>6.98</td>\n",
       "      <td>6.90</td>\n",
       "      <td>4.04</td>\n",
       "    </tr>\n",
       "    <tr>\n",
       "      <th>2027</th>\n",
       "      <td>2028</td>\n",
       "      <td>0.90</td>\n",
       "      <td>Fair</td>\n",
       "      <td>H</td>\n",
       "      <td>SI2</td>\n",
       "      <td>65.6</td>\n",
       "      <td>58.0</td>\n",
       "      <td>3105</td>\n",
       "      <td>6.05</td>\n",
       "      <td>5.95</td>\n",
       "      <td>3.95</td>\n",
       "    </tr>\n",
       "    <tr>\n",
       "      <th>21460</th>\n",
       "      <td>21461</td>\n",
       "      <td>1.63</td>\n",
       "      <td>Very Good</td>\n",
       "      <td>G</td>\n",
       "      <td>SI2</td>\n",
       "      <td>62.5</td>\n",
       "      <td>57.0</td>\n",
       "      <td>9556</td>\n",
       "      <td>7.54</td>\n",
       "      <td>7.57</td>\n",
       "      <td>4.72</td>\n",
       "    </tr>\n",
       "    <tr>\n",
       "      <th>9828</th>\n",
       "      <td>9829</td>\n",
       "      <td>1.01</td>\n",
       "      <td>Good</td>\n",
       "      <td>G</td>\n",
       "      <td>SI1</td>\n",
       "      <td>63.6</td>\n",
       "      <td>57.0</td>\n",
       "      <td>4672</td>\n",
       "      <td>6.37</td>\n",
       "      <td>6.33</td>\n",
       "      <td>4.04</td>\n",
       "    </tr>\n",
       "  </tbody>\n",
       "</table>\n",
       "</div>"
      ],
      "text/plain": [
       "           s  carat        cut color clarity  depth  table  price     x     y  \\\n",
       "2392    2393   0.32      Ideal     H     VS1   61.1   56.0    561  4.44  4.46   \n",
       "12538  12539   1.20    Premium     E     SI2   58.2   59.0   5268  6.98  6.90   \n",
       "2027    2028   0.90       Fair     H     SI2   65.6   58.0   3105  6.05  5.95   \n",
       "21460  21461   1.63  Very Good     G     SI2   62.5   57.0   9556  7.54  7.57   \n",
       "9828    9829   1.01       Good     G     SI1   63.6   57.0   4672  6.37  6.33   \n",
       "\n",
       "          z  \n",
       "2392   2.72  \n",
       "12538  4.04  \n",
       "2027   3.95  \n",
       "21460  4.72  \n",
       "9828   4.04  "
      ]
     },
     "execution_count": 47,
     "metadata": {},
     "output_type": "execute_result"
    }
   ],
   "source": [
    "df2 = pd.read_csv(URL2)\n",
    "df2.sample(5)"
   ]
  },
  {
   "cell_type": "markdown",
   "metadata": {},
   "source": [
    "<details>\n",
    "    <summary>Click here for a Hint</summary>\n",
    "    \n",
    "Use the read_csv function\n",
    "\n",
    "</details>\n"
   ]
  },
  {
   "cell_type": "markdown",
   "metadata": {},
   "source": [
    "<details>\n",
    "    <summary>Click here for Solution</summary>\n",
    "\n",
    "```python\n",
    "df2 = pd.read_csv(URL2)\n",
    "```\n",
    "\n",
    "</details>\n"
   ]
  },
  {
   "cell_type": "markdown",
   "metadata": {},
   "source": [
    "### Exercise 2 - Identify the target column and the data columns\n"
   ]
  },
  {
   "cell_type": "markdown",
   "metadata": {},
   "source": [
    " - use the price column as target\n",
    " - use the columns carat and depth as features\n"
   ]
  },
  {
   "cell_type": "code",
   "execution_count": 48,
   "metadata": {
    "tags": []
   },
   "outputs": [],
   "source": [
    "target2 =  df2[\"price\"]\n",
    "features2 = df2[[\"carat\",\"depth\"]]"
   ]
  },
  {
   "cell_type": "markdown",
   "metadata": {},
   "source": [
    "<details>\n",
    "    <summary>Click here for a Hint</summary>\n",
    "    \n",
    "Refer to Task2\n",
    "</details>\n"
   ]
  },
  {
   "cell_type": "markdown",
   "metadata": {},
   "source": [
    "<details>\n",
    "    <summary>Click here for Solution</summary>\n",
    "\n",
    "```python\n",
    "target = df2[\"price\"]\n",
    "features = df2[[\"carat\",\"depth\"]]\n",
    "```\n",
    "\n",
    "</details>\n"
   ]
  },
  {
   "cell_type": "markdown",
   "metadata": {},
   "source": [
    "### Exercise 3 - Build and Train a new Linear Regression Model\n"
   ]
  },
  {
   "cell_type": "markdown",
   "metadata": {},
   "source": [
    "Create a new Linear Regression Model\n"
   ]
  },
  {
   "cell_type": "code",
   "execution_count": 49,
   "metadata": {
    "tags": []
   },
   "outputs": [
    {
     "data": {
      "text/html": [
       "<style>#sk-container-id-3 {color: black;}#sk-container-id-3 pre{padding: 0;}#sk-container-id-3 div.sk-toggleable {background-color: white;}#sk-container-id-3 label.sk-toggleable__label {cursor: pointer;display: block;width: 100%;margin-bottom: 0;padding: 0.3em;box-sizing: border-box;text-align: center;}#sk-container-id-3 label.sk-toggleable__label-arrow:before {content: \"▸\";float: left;margin-right: 0.25em;color: #696969;}#sk-container-id-3 label.sk-toggleable__label-arrow:hover:before {color: black;}#sk-container-id-3 div.sk-estimator:hover label.sk-toggleable__label-arrow:before {color: black;}#sk-container-id-3 div.sk-toggleable__content {max-height: 0;max-width: 0;overflow: hidden;text-align: left;background-color: #f0f8ff;}#sk-container-id-3 div.sk-toggleable__content pre {margin: 0.2em;color: black;border-radius: 0.25em;background-color: #f0f8ff;}#sk-container-id-3 input.sk-toggleable__control:checked~div.sk-toggleable__content {max-height: 200px;max-width: 100%;overflow: auto;}#sk-container-id-3 input.sk-toggleable__control:checked~label.sk-toggleable__label-arrow:before {content: \"▾\";}#sk-container-id-3 div.sk-estimator input.sk-toggleable__control:checked~label.sk-toggleable__label {background-color: #d4ebff;}#sk-container-id-3 div.sk-label input.sk-toggleable__control:checked~label.sk-toggleable__label {background-color: #d4ebff;}#sk-container-id-3 input.sk-hidden--visually {border: 0;clip: rect(1px 1px 1px 1px);clip: rect(1px, 1px, 1px, 1px);height: 1px;margin: -1px;overflow: hidden;padding: 0;position: absolute;width: 1px;}#sk-container-id-3 div.sk-estimator {font-family: monospace;background-color: #f0f8ff;border: 1px dotted black;border-radius: 0.25em;box-sizing: border-box;margin-bottom: 0.5em;}#sk-container-id-3 div.sk-estimator:hover {background-color: #d4ebff;}#sk-container-id-3 div.sk-parallel-item::after {content: \"\";width: 100%;border-bottom: 1px solid gray;flex-grow: 1;}#sk-container-id-3 div.sk-label:hover label.sk-toggleable__label {background-color: #d4ebff;}#sk-container-id-3 div.sk-serial::before {content: \"\";position: absolute;border-left: 1px solid gray;box-sizing: border-box;top: 0;bottom: 0;left: 50%;z-index: 0;}#sk-container-id-3 div.sk-serial {display: flex;flex-direction: column;align-items: center;background-color: white;padding-right: 0.2em;padding-left: 0.2em;position: relative;}#sk-container-id-3 div.sk-item {position: relative;z-index: 1;}#sk-container-id-3 div.sk-parallel {display: flex;align-items: stretch;justify-content: center;background-color: white;position: relative;}#sk-container-id-3 div.sk-item::before, #sk-container-id-3 div.sk-parallel-item::before {content: \"\";position: absolute;border-left: 1px solid gray;box-sizing: border-box;top: 0;bottom: 0;left: 50%;z-index: -1;}#sk-container-id-3 div.sk-parallel-item {display: flex;flex-direction: column;z-index: 1;position: relative;background-color: white;}#sk-container-id-3 div.sk-parallel-item:first-child::after {align-self: flex-end;width: 50%;}#sk-container-id-3 div.sk-parallel-item:last-child::after {align-self: flex-start;width: 50%;}#sk-container-id-3 div.sk-parallel-item:only-child::after {width: 0;}#sk-container-id-3 div.sk-dashed-wrapped {border: 1px dashed gray;margin: 0 0.4em 0.5em 0.4em;box-sizing: border-box;padding-bottom: 0.4em;background-color: white;}#sk-container-id-3 div.sk-label label {font-family: monospace;font-weight: bold;display: inline-block;line-height: 1.2em;}#sk-container-id-3 div.sk-label-container {text-align: center;}#sk-container-id-3 div.sk-container {/* jupyter's `normalize.less` sets `[hidden] { display: none; }` but bootstrap.min.css set `[hidden] { display: none !important; }` so we also need the `!important` here to be able to override the default hidden behavior on the sphinx rendered scikit-learn.org. See: https://github.com/scikit-learn/scikit-learn/issues/21755 */display: inline-block !important;position: relative;}#sk-container-id-3 div.sk-text-repr-fallback {display: none;}</style><div id=\"sk-container-id-3\" class=\"sk-top-container\"><div class=\"sk-text-repr-fallback\"><pre>LinearRegression()</pre><b>In a Jupyter environment, please rerun this cell to show the HTML representation or trust the notebook. <br />On GitHub, the HTML representation is unable to render, please try loading this page with nbviewer.org.</b></div><div class=\"sk-container\" hidden><div class=\"sk-item\"><div class=\"sk-estimator sk-toggleable\"><input class=\"sk-toggleable__control sk-hidden--visually\" id=\"sk-estimator-id-3\" type=\"checkbox\" checked><label for=\"sk-estimator-id-3\" class=\"sk-toggleable__label sk-toggleable__label-arrow\">LinearRegression</label><div class=\"sk-toggleable__content\"><pre>LinearRegression()</pre></div></div></div></div></div>"
      ],
      "text/plain": [
       "LinearRegression()"
      ]
     },
     "execution_count": 49,
     "metadata": {},
     "output_type": "execute_result"
    }
   ],
   "source": [
    "lr2 = LinearRegression()\n",
    "lr2.fit(features2,target2)"
   ]
  },
  {
   "cell_type": "markdown",
   "metadata": {},
   "source": [
    "<details>\n",
    "    <summary>Click here for a Hint</summary>\n",
    "    \n",
    "fit using the features and target\n",
    "</details>\n"
   ]
  },
  {
   "cell_type": "markdown",
   "metadata": {},
   "source": [
    "<details>\n",
    "    <summary>Click here for Solution</summary>\n",
    "\n",
    "```python\n",
    "lr2 = LinearRegression()\n",
    "lr2.fit(features,target)\n",
    "\n",
    "```\n",
    "\n",
    "</details>\n"
   ]
  },
  {
   "cell_type": "markdown",
   "metadata": {},
   "source": [
    "### Exercise 4 - Evaluate the model\n"
   ]
  },
  {
   "cell_type": "markdown",
   "metadata": {},
   "source": [
    "Print the score of the model\n"
   ]
  },
  {
   "cell_type": "code",
   "execution_count": 50,
   "metadata": {
    "tags": []
   },
   "outputs": [
    {
     "data": {
      "text/plain": [
       "0.8506754571636563"
      ]
     },
     "execution_count": 50,
     "metadata": {},
     "output_type": "execute_result"
    }
   ],
   "source": [
    "#your code goes here\n",
    "r2=lr2.score(features2,target2)\n",
    "r2"
   ]
  },
  {
   "cell_type": "markdown",
   "metadata": {},
   "source": [
    "<details>\n",
    "    <summary>Click here for a Hint</summary>\n",
    "    \n",
    "use the score() method\n",
    "</details>\n"
   ]
  },
  {
   "cell_type": "markdown",
   "metadata": {},
   "source": [
    "<details>\n",
    "    <summary>Click here for Solution</summary>\n",
    "\n",
    "```python\n",
    "lr2.score(features,target)\n",
    "\n",
    "```\n",
    "\n",
    "</details>\n"
   ]
  },
  {
   "cell_type": "markdown",
   "metadata": {},
   "source": [
    "### Exercise 5 - Predict the price of a diamond\n"
   ]
  },
  {
   "cell_type": "markdown",
   "metadata": {},
   "source": [
    "Predict the price of a diamond with carat = 0.3 and depth = 60\n"
   ]
  },
  {
   "cell_type": "code",
   "execution_count": 51,
   "metadata": {
    "tags": []
   },
   "outputs": [
    {
     "name": "stdout",
     "output_type": "stream",
     "text": [
      "[244.95605225]\n"
     ]
    }
   ],
   "source": [
    "#your code goes here\n",
    "print(lr2.predict([[0.3, 60]]))"
   ]
  },
  {
   "cell_type": "markdown",
   "metadata": {},
   "source": [
    "<details>\n",
    "    <summary>Click here for a Hint</summary>\n",
    "    \n",
    "use the predict() method\n",
    "</details>\n"
   ]
  },
  {
   "cell_type": "markdown",
   "metadata": {},
   "source": [
    "<details>\n",
    "    <summary>Click here for Solution</summary>\n",
    "\n",
    "```python\n",
    "lr2.predict([[0.3, 60]])\n",
    "\n",
    "```\n",
    "\n",
    "</details>\n"
   ]
  },
  {
   "cell_type": "markdown",
   "metadata": {},
   "source": [
    "Congratulations! You have completed this lab.<br>\n",
    "You are encouraged to experiment creating models with more than 2 feature columns\n"
   ]
  },
  {
   "cell_type": "markdown",
   "metadata": {},
   "source": [
    "## Authors\n"
   ]
  },
  {
   "cell_type": "markdown",
   "metadata": {},
   "source": [
    "[Ramesh Sannareddy](https://www.linkedin.com/in/rsannareddy/)\n"
   ]
  },
  {
   "cell_type": "markdown",
   "metadata": {},
   "source": [
    "## Contributors\n",
    "[Vicky Kuo](https://author.skills.network/instructors/vicky_kuo)\n"
   ]
  },
  {
   "cell_type": "markdown",
   "metadata": {},
   "source": [
    "## Change Log\n"
   ]
  },
  {
   "cell_type": "markdown",
   "metadata": {},
   "source": [
    "|Date (YYYY-MM-DD)|Version|Changed By|Change Description|\n",
    "|-|-|-|-|\n",
    "|2023-04-14|0.1|Ramesh Sannareddy|Initial Version Created|\n",
    "|2023-06-20|0.3|Vicky Kuo|Proofreading|\n"
   ]
  },
  {
   "cell_type": "markdown",
   "metadata": {},
   "source": [
    "Copyright © 2023 IBM Corporation. All rights reserved.\n"
   ]
  }
 ],
 "metadata": {
  "kernelspec": {
   "display_name": "Python 3 (ipykernel)",
   "language": "python",
   "name": "python3"
  },
  "language_info": {
   "codemirror_mode": {
    "name": "ipython",
    "version": 3
   },
   "file_extension": ".py",
   "mimetype": "text/x-python",
   "name": "python",
   "nbconvert_exporter": "python",
   "pygments_lexer": "ipython3",
   "version": "3.12.0"
  }
 },
 "nbformat": 4,
 "nbformat_minor": 4
}
